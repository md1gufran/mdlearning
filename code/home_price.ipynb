{
  "nbformat": 4,
  "nbformat_minor": 0,
  "metadata": {
    "colab": {
      "provenance": []
    },
    "kernelspec": {
      "name": "python3",
      "display_name": "Python 3"
    },
    "language_info": {
      "name": "python"
    }
  },
  "cells": [
    {
      "cell_type": "code",
      "execution_count": 91,
      "metadata": {
        "id": "1ZDBloz3MmNo"
      },
      "outputs": [],
      "source": [
        "import numpy as np\n",
        "import pandas as pd\n",
        "from matplotlib import pyplot as plt\n",
        "%matplotlib inline"
      ]
    },
    {
      "cell_type": "code",
      "source": [
        "df = pd.read_csv(\"homeprices_banglore.csv\")\n",
        "if df.empty:\n",
        "  print(\"This data set is empty please check again\")\n",
        "else:\n",
        "  print(df.sample(5))\n",
        "# df.drop('price',axis='columns')\n",
        "df['price'].values\n",
        "print()\n",
        "df['price'].values.reshape(df.shape[0],1)"
      ],
      "metadata": {
        "colab": {
          "base_uri": "https://localhost:8080/"
        },
        "id": "JMAmuRBzNZX-",
        "outputId": "4de470f3-838a-4d53-8133-e285404fda34"
      },
      "execution_count": 92,
      "outputs": [
        {
          "output_type": "stream",
          "name": "stdout",
          "text": [
            "    area  bedrooms  price\n",
            "12  1000         2   38.0\n",
            "9   3700         5  167.0\n",
            "14  2250         3  101.0\n",
            "11  2785         4  140.0\n",
            "17  1540         3   60.0\n",
            "\n"
          ]
        },
        {
          "output_type": "execute_result",
          "data": {
            "text/plain": [
              "array([[ 39.07],\n",
              "       [120.  ],\n",
              "       [ 62.  ],\n",
              "       [ 75.  ],\n",
              "       [ 51.  ],\n",
              "       [ 38.  ],\n",
              "       [135.  ],\n",
              "       [155.  ],\n",
              "       [ 50.  ],\n",
              "       [167.  ],\n",
              "       [ 82.  ],\n",
              "       [140.  ],\n",
              "       [ 38.  ],\n",
              "       [ 40.  ],\n",
              "       [101.  ],\n",
              "       [ 42.  ],\n",
              "       [ 48.  ],\n",
              "       [ 60.  ],\n",
              "       [102.  ],\n",
              "       [ 32.  ]])"
            ]
          },
          "metadata": {},
          "execution_count": 92
        }
      ]
    },
    {
      "cell_type": "code",
      "source": [
        "from sklearn import preprocessing\n",
        "sx = preprocessing.MinMaxScaler()\n",
        "sy = preprocessing.MinMaxScaler()\n",
        "\n",
        "scaled_x = preprocessing.MinMaxScaler().fit_transform(df.drop('price',axis='columns'))\n",
        "scaled_y = preprocessing.MinMaxScaler().fit_transform(df['price'].values.reshape(df.shape[0],1))\n",
        "df.drop('price',axis='columns').shape\n",
        "scaled_x"
      ],
      "metadata": {
        "colab": {
          "base_uri": "https://localhost:8080/"
        },
        "id": "TmEJi-iGVUFc",
        "outputId": "40cdd5fa-291f-4928-ec8f-944c497e41dc"
      },
      "execution_count": 153,
      "outputs": [
        {
          "output_type": "execute_result",
          "data": {
            "text/plain": [
              "array([[0.08827586, 0.25      ],\n",
              "       [0.62068966, 0.75      ],\n",
              "       [0.22068966, 0.5       ],\n",
              "       [0.24862069, 0.5       ],\n",
              "       [0.13793103, 0.25      ],\n",
              "       [0.12758621, 0.25      ],\n",
              "       [0.6662069 , 0.75      ],\n",
              "       [0.86206897, 0.75      ],\n",
              "       [0.17586207, 0.5       ],\n",
              "       [1.        , 1.        ],\n",
              "       [0.34482759, 0.5       ],\n",
              "       [0.68448276, 0.75      ],\n",
              "       [0.06896552, 0.25      ],\n",
              "       [0.10344828, 0.25      ],\n",
              "       [0.5       , 0.5       ],\n",
              "       [0.12931034, 0.25      ],\n",
              "       [0.13103448, 0.5       ],\n",
              "       [0.25517241, 0.5       ],\n",
              "       [0.67931034, 0.5       ],\n",
              "       [0.        , 0.        ]])"
            ]
          },
          "metadata": {},
          "execution_count": 153
        }
      ]
    },
    {
      "cell_type": "code",
      "source": [
        "def batch_gradient(x,y_true,epochs):\n",
        "  learning_rate = 0.01\n",
        "  w = np.ones(shape=(x.shape[1]))\n",
        "  b = 0\n",
        "  total_sample = x.shape[0]\n",
        "\n",
        "  cost_list = []\n",
        "  epochs_list = []\n",
        "  for i in range(epochs):\n",
        "    y_predicted = np.dot(w,np.transpose(scaled_x)) + b\n",
        "\n",
        "    w_grad = -(2/total_sample)*(x.T.dot(y_true-y_predicted))\n",
        "    b_grad = -(2/total_sample)*np.sum(y_true-y_predicted)\n",
        "\n",
        "    w = w - learning_rate*w_grad\n",
        "    b = b - learning_rate*b_grad\n",
        "\n",
        "    cost = np.mean(np.square(y_true-y_predicted))\n",
        "\n",
        "    if i%10==0:\n",
        "      cost_list.append(cost)\n",
        "      epochs_list.append(i)\n",
        "\n",
        "  return w , b ,cost , cost_list , epochs_list\n"
      ],
      "metadata": {
        "id": "Z0eVQOKGfgWU"
      },
      "execution_count": 94,
      "outputs": []
    },
    {
      "cell_type": "code",
      "source": [
        "w,b,cost,cost_list,epochs_list = batch_gradient(scaled_x,scaled_y.reshape(scaled_y.shape[0],),500)\n",
        "w , b , cost"
      ],
      "metadata": {
        "colab": {
          "base_uri": "https://localhost:8080/"
        },
        "id": "10k8_yo0j0Mv",
        "outputId": "cb5ab797-fa1d-4811-e571-b2ae3f5737a7"
      },
      "execution_count": 95,
      "outputs": [
        {
          "output_type": "execute_result",
          "data": {
            "text/plain": [
              "(array([0.70712464, 0.67456527]), -0.23034857438407427, 0.0068641890429808105)"
            ]
          },
          "metadata": {},
          "execution_count": 95
        }
      ]
    },
    {
      "cell_type": "code",
      "source": [
        "plt.xlabel(\"epochs\")\n",
        "plt.ylabel(\"cost\")\n",
        "plt.plot(epochs_list,cost_list)"
      ],
      "metadata": {
        "colab": {
          "base_uri": "https://localhost:8080/",
          "height": 466
        },
        "id": "TnZLl_QPkhJf",
        "outputId": "1e75263a-4276-4230-9026-af152810d550"
      },
      "execution_count": 147,
      "outputs": [
        {
          "output_type": "execute_result",
          "data": {
            "text/plain": [
              "[<matplotlib.lines.Line2D at 0x7da934689240>]"
            ]
          },
          "metadata": {},
          "execution_count": 147
        },
        {
          "output_type": "display_data",
          "data": {
            "text/plain": [
              "<Figure size 640x480 with 1 Axes>"
            ],
            "image/png": "[encoded data removed]"
          },
          "metadata": {}
        }
      ]
    },
    {
      "cell_type": "code",
      "source": [
        "preprocessing.MinMaxScaler().fit_transform([[1800,3]])"
      ],
      "metadata": {
        "id": "iK2XB6Z447Rd",
        "outputId": "27985eca-a0b6-4620-8032-c220edb1e6df",
        "colab": {
          "base_uri": "https://localhost:8080/"
        }
      },
      "execution_count": 163,
      "outputs": [
        {
          "output_type": "execute_result",
          "data": {
            "text/plain": [
              "array([[0., 0.]])"
            ]
          },
          "metadata": {},
          "execution_count": 163
        }
      ]
    },
    {
      "cell_type": "code",
      "source": [
        "def predict(area,bedrooms,w,b):\n",
        "  scaled_X = preprocessing.MinMaxScaler().fit.transform([[area,bedrooms]])[0]\n",
        "  print(scaled_X)\n",
        "  scaled_price = w[0]*scaled_X[0] + w[1]*scaled_X[0] + b\n",
        "  print()\n",
        "  print(scaled_price)\n",
        "  scaled_price = preprocessing.MinMaxScaler().fit_transform([[scaled_price]])\n",
        "  return preprocessing.MinMaxScaler().inverse_transform(scaled_price)[0][0]\n",
        "\n",
        "#here some error please check while revisit"
      ],
      "metadata": {
        "id": "JkpZuVZkmyqt"
      },
      "execution_count": 158,
      "outputs": []
    },
    {
      "cell_type": "code",
      "source": [
        "predict(1800,3,w,b)\n",
        "#there is some error in fitting the data check later when you revisit this"
      ],
      "metadata": {
        "colab": {
          "base_uri": "https://localhost:8080/",
          "height": 317
        },
        "id": "SVnxXmuFvHsA",
        "outputId": "57b13ff2-1119-4d45-c478-de23209c3697"
      },
      "execution_count": 165,
      "outputs": [
        {
          "output_type": "error",
          "ename": "AttributeError",
          "evalue": "'function' object has no attribute 'transform'",
          "traceback": [
            "\u001b[0;31m---------------------------------------------------------------------------\u001b[0m",
            "\u001b[0;31mAttributeError\u001b[0m                            Traceback (most recent call last)",
            "\u001b[0;32m<ipython-input-165-78695e447616>\u001b[0m in \u001b[0;36m<cell line: 1>\u001b[0;34m()\u001b[0m\n\u001b[0;32m----> 1\u001b[0;31m \u001b[0mpredict\u001b[0m\u001b[0;34m(\u001b[0m\u001b[0;36m1800\u001b[0m\u001b[0;34m,\u001b[0m\u001b[0;36m3\u001b[0m\u001b[0;34m,\u001b[0m\u001b[0mw\u001b[0m\u001b[0;34m,\u001b[0m\u001b[0mb\u001b[0m\u001b[0;34m)\u001b[0m\u001b[0;34m\u001b[0m\u001b[0;34m\u001b[0m\u001b[0m\n\u001b[0m\u001b[1;32m      2\u001b[0m \u001b[0;31m#there is some error in fitting the data check later when you revisit this\u001b[0m\u001b[0;34m\u001b[0m\u001b[0;34m\u001b[0m\u001b[0m\n",
            "\u001b[0;32m<ipython-input-158-07a9784a42a6>\u001b[0m in \u001b[0;36mpredict\u001b[0;34m(area, bedrooms, w, b)\u001b[0m\n\u001b[1;32m      1\u001b[0m \u001b[0;32mdef\u001b[0m \u001b[0mpredict\u001b[0m\u001b[0;34m(\u001b[0m\u001b[0marea\u001b[0m\u001b[0;34m,\u001b[0m\u001b[0mbedrooms\u001b[0m\u001b[0;34m,\u001b[0m\u001b[0mw\u001b[0m\u001b[0;34m,\u001b[0m\u001b[0mb\u001b[0m\u001b[0;34m)\u001b[0m\u001b[0;34m:\u001b[0m\u001b[0;34m\u001b[0m\u001b[0;34m\u001b[0m\u001b[0m\n\u001b[0;32m----> 2\u001b[0;31m   \u001b[0mscaled_X\u001b[0m \u001b[0;34m=\u001b[0m \u001b[0mpreprocessing\u001b[0m\u001b[0;34m.\u001b[0m\u001b[0mMinMaxScaler\u001b[0m\u001b[0;34m(\u001b[0m\u001b[0;34m)\u001b[0m\u001b[0;34m.\u001b[0m\u001b[0mfit\u001b[0m\u001b[0;34m.\u001b[0m\u001b[0mtransform\u001b[0m\u001b[0;34m(\u001b[0m\u001b[0;34m[\u001b[0m\u001b[0;34m[\u001b[0m\u001b[0marea\u001b[0m\u001b[0;34m,\u001b[0m\u001b[0mbedrooms\u001b[0m\u001b[0;34m]\u001b[0m\u001b[0;34m]\u001b[0m\u001b[0;34m)\u001b[0m\u001b[0;34m[\u001b[0m\u001b[0;36m0\u001b[0m\u001b[0;34m]\u001b[0m\u001b[0;34m\u001b[0m\u001b[0;34m\u001b[0m\u001b[0m\n\u001b[0m\u001b[1;32m      3\u001b[0m   \u001b[0mprint\u001b[0m\u001b[0;34m(\u001b[0m\u001b[0mscaled_X\u001b[0m\u001b[0;34m)\u001b[0m\u001b[0;34m\u001b[0m\u001b[0;34m\u001b[0m\u001b[0m\n\u001b[1;32m      4\u001b[0m   \u001b[0mscaled_price\u001b[0m \u001b[0;34m=\u001b[0m \u001b[0mw\u001b[0m\u001b[0;34m[\u001b[0m\u001b[0;36m0\u001b[0m\u001b[0;34m]\u001b[0m\u001b[0;34m*\u001b[0m\u001b[0mscaled_X\u001b[0m\u001b[0;34m[\u001b[0m\u001b[0;36m0\u001b[0m\u001b[0;34m]\u001b[0m \u001b[0;34m+\u001b[0m \u001b[0mw\u001b[0m\u001b[0;34m[\u001b[0m\u001b[0;36m1\u001b[0m\u001b[0;34m]\u001b[0m\u001b[0;34m*\u001b[0m\u001b[0mscaled_X\u001b[0m\u001b[0;34m[\u001b[0m\u001b[0;36m0\u001b[0m\u001b[0;34m]\u001b[0m \u001b[0;34m+\u001b[0m \u001b[0mb\u001b[0m\u001b[0;34m\u001b[0m\u001b[0;34m\u001b[0m\u001b[0m\n\u001b[1;32m      5\u001b[0m   \u001b[0mprint\u001b[0m\u001b[0;34m(\u001b[0m\u001b[0;34m)\u001b[0m\u001b[0;34m\u001b[0m\u001b[0;34m\u001b[0m\u001b[0m\n",
            "\u001b[0;31mAttributeError\u001b[0m: 'function' object has no attribute 'transform'"
          ]
        }
      ]
    },
    {
      "cell_type": "code",
      "source": [
        "import random"
      ],
      "metadata": {
        "id": "dhfyWw_38NmE"
      },
      "execution_count": 166,
      "outputs": []
    },
    {
      "cell_type": "code",
      "source": [
        "def stochastic_gradient(x,y_true,epochs):\n",
        "  learning_rate = 0.01\n",
        "  w = np.ones(shape=(x.shape[1]))\n",
        "  b = 0\n",
        "  total_sample = x.shape[0]\n",
        "\n",
        "  cost_list = []\n",
        "  epochs_list = []\n",
        "  for i in range(epochs):\n",
        "    random_index = random.randint(0,total_sample-1)\n",
        "    sample_X = x[random_index]\n",
        "    sample_y = y_true[random_index]\n",
        "    y_predicted = np.dot(w,np.transpose(sample_X)) + b\n",
        "\n",
        "    w_grad = -(2/total_sample)*(sample_X.T.dot(sample_y-y_predicted))\n",
        "    b_grad = -(2/total_sample)*np.sum(sample_y-y_predicted)\n",
        "\n",
        "    w = w - learning_rate*w_grad\n",
        "    b = b - learning_rate*b_grad\n",
        "\n",
        "    cost = np.mean(np.square(sample_y-y_predicted))\n",
        "\n",
        "    if i%10==0:\n",
        "      cost_list.append(cost)\n",
        "      epochs_list.append(i)\n",
        "\n",
        "  return w , b ,cost , cost_list , epochs_list\n"
      ],
      "metadata": {
        "id": "PsiZP61K6pzm"
      },
      "execution_count": 178,
      "outputs": []
    },
    {
      "cell_type": "code",
      "source": [
        "w,b,cost,cost_list,epochs_list = stochastic_gradient(scaled_x,scaled_y.reshape(scaled_y.shape[0],),1000)\n",
        "w , b , cost"
      ],
      "metadata": {
        "id": "g9XSAE6a4y1p",
        "outputId": "845a1ef4-a581-4808-d9f9-1b7450c20e60",
        "colab": {
          "base_uri": "https://localhost:8080/"
        }
      },
      "execution_count": 179,
      "outputs": [
        {
          "output_type": "execute_result",
          "data": {
            "text/plain": [
              "(array([0.87297369, 0.84156435]), -0.2535977190811783, 0.058612573702376165)"
            ]
          },
          "metadata": {},
          "execution_count": 179
        }
      ]
    },
    {
      "cell_type": "code",
      "source": [
        "plt.xlabel(\"epochs\")\n",
        "plt.ylabel(\"cost\")\n",
        "plt.plot(epochs_list,cost_list)"
      ],
      "metadata": {
        "id": "d2DODd-e9QSZ",
        "outputId": "c7a54ad8-ed04-4826-bf57-51fb0f9b9b2f",
        "colab": {
          "base_uri": "https://localhost:8080/",
          "height": 466
        }
      },
      "execution_count": 180,
      "outputs": [
        {
          "output_type": "execute_result",
          "data": {
            "text/plain": [
              "[<matplotlib.lines.Line2D at 0x7da934420820>]"
            ]
          },
          "metadata": {},
          "execution_count": 180
        },
        {
          "output_type": "display_data",
          "data": {
            "text/plain": [
              "<Figure size 640x480 with 1 Axes>"
            ],
            "image/png": "[encoded data removed]"
          },
          "metadata": {}
        }
      ]
    }
  ]
}