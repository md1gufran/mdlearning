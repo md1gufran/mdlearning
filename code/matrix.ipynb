{
 "cells": [
  {
   "cell_type": "code",
   "execution_count": 2,
   "metadata": {},
   "outputs": [],
   "source": [
    "import numpy as np\n"
   ]
  },
  {
   "cell_type": "code",
   "execution_count": 29,
   "metadata": {},
   "outputs": [
    {
     "data": {
      "text/plain": [
       "array([[ 7, 14],\n",
       "       [-5, -8]])"
      ]
     },
     "execution_count": 29,
     "metadata": {},
     "output_type": "execute_result"
    }
   ],
   "source": [
    "\n",
    "revenue = np.array([[180,200,220],[24,36,40],[12,10,20]])\n",
    "expense = np.array([[80,90,100],[10,16,20],[8,10,10]])\n",
    "\n",
    "flower = np.array([[50,60,25],[10,13,5],[40,70,52]])\n",
    "price = np.array([20,30,15])   \n",
    "\n",
    "a = np.array([[3,-1,2],[-2,4,0]])\n",
    "b = np.array([[2,0],[-1,4],[-3,2]])\n",
    "\n",
    "p = np.array([[-2,5],[1,-3]])\n",
    "q = np.array([[4,-2],[3,2]])\n",
    "\n",
    "final = np.dot(p,q)\n",
    "final"
   ]
  }
 ],
 "metadata": {
  "kernelspec": {
   "display_name": "Python 3",
   "language": "python",
   "name": "python3"
  },
  "language_info": {
   "codemirror_mode": {
    "name": "ipython",
    "version": 3
   },
   "file_extension": ".py",
   "mimetype": "text/x-python",
   "name": "python",
   "nbconvert_exporter": "python",
   "pygments_lexer": "ipython3",
   "version": "3.10.12"
  }
 },
 "nbformat": 4,
 "nbformat_minor": 2
}
