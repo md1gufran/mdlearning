{
  "nbformat": 4,
  "nbformat_minor": 0,
  "metadata": {
    "colab": {
      "provenance": []
    },
    "kernelspec": {
      "name": "python3",
      "display_name": "Python 3"
    },
    "language_info": {
      "name": "python"
    }
  },
  "cells": [
    {
      "cell_type": "code",
      "execution_count": 3,
      "metadata": {
        "id": "rMgeXMoBdDQ6"
      },
      "outputs": [],
      "source": [
        "import numpy as np\n",
        "import math"
      ]
    },
    {
      "cell_type": "code",
      "source": [
        "y_true = np.arange(0,10,1)\n",
        "y_predicted = np.random.randint(0,10,size=10,dtype=int)\n",
        "\n",
        "\n",
        "def mae(y_predicted,y_true):\n",
        "  ans = []\n",
        "  mean = 0\n",
        "  for i,j in zip(y_predicted,y_true):\n",
        "    ans.append((i-j)**2)\n",
        "  for i in range(len(y_true)):\n",
        "    mean = mean + ans[i]\n",
        "  mean = mean/len(y_true)\n",
        "  return mean"
      ],
      "metadata": {
        "id": "1bXlbKrJdRnm"
      },
      "execution_count": 12,
      "outputs": []
    },
    {
      "cell_type": "code",
      "source": [
        "mae(y_predicted,y_true)"
      ],
      "metadata": {
        "colab": {
          "base_uri": "https://localhost:8080/"
        },
        "id": "Nbe0qg1ceF__",
        "outputId": "b36cd6c3-32bc-42b6-acdf-9f0559551962"
      },
      "execution_count": 13,
      "outputs": [
        {
          "output_type": "execute_result",
          "data": {
            "text/plain": [
              "9.3"
            ]
          },
          "metadata": {},
          "execution_count": 13
        }
      ]
    },
    {
      "cell_type": "code",
      "source": [
        "np.mean(np.square(y_predicted-y_true))"
      ],
      "metadata": {
        "colab": {
          "base_uri": "https://localhost:8080/"
        },
        "id": "EBSkc3s2emhU",
        "outputId": "1fc98fe3-42ad-48f0-93d2-19e6888eca5a"
      },
      "execution_count": 14,
      "outputs": [
        {
          "output_type": "execute_result",
          "data": {
            "text/plain": [
              "9.3"
            ]
          },
          "metadata": {},
          "execution_count": 14
        }
      ]
    },
    {
      "cell_type": "code",
      "source": [
        "def helper(y_predicted,y_true):\n",
        "  epsilon = 1e-15\n",
        "  y_predicted_new = [max(i,epsilon) for i in y_predicted]\n",
        "  y_predicted_new = np.where(y_predicted_new==1,1-epsilon,y_predicted_new)\n",
        "  y_true = [max(i,epsilon) for i in y_true]\n",
        "  y_true = np.where(y_true==1,1-epsilon,y_true)\n",
        "  return y_predicted_new,y_true"
      ],
      "metadata": {
        "id": "Uo1NUN_PfKQs"
      },
      "execution_count": 15,
      "outputs": []
    },
    {
      "cell_type": "code",
      "source": [
        "y_predicted,y_true = helper(y_predicted,y_true)"
      ],
      "metadata": {
        "id": "20qnvmoqiPNr"
      },
      "execution_count": 16,
      "outputs": []
    },
    {
      "cell_type": "code",
      "source": [
        "def log_loss(y_predicted,y_true):\n",
        "  return -(np.mean(np.dot(np.transpose(y_true),np.log(y_predicted))+np.dot(np.transpose(1-y_true),np.log(1-y_predicted))))"
      ],
      "metadata": {
        "id": "DvFFnzWribNB"
      },
      "execution_count": 18,
      "outputs": []
    },
    {
      "cell_type": "code",
      "source": [
        "log_loss(y_predicted,y_true)"
      ],
      "metadata": {
        "colab": {
          "base_uri": "https://localhost:8080/"
        },
        "id": "9z7xUEssld9v",
        "outputId": "eb6f3db0-127a-46e4-c5d9-c1137add6dc8"
      },
      "execution_count": 19,
      "outputs": [
        {
          "output_type": "stream",
          "name": "stderr",
          "text": [
            "<ipython-input-18-261bb05de233>:2: RuntimeWarning: divide by zero encountered in log\n",
            "  return -(np.mean(np.dot(np.transpose(y_true),np.log(y_predicted))+np.dot(np.transpose(1-y_true),np.log(1-y_predicted))))\n",
            "<ipython-input-18-261bb05de233>:2: RuntimeWarning: invalid value encountered in log\n",
            "  return -(np.mean(np.dot(np.transpose(y_true),np.log(y_predicted))+np.dot(np.transpose(1-y_true),np.log(1-y_predicted))))\n"
          ]
        },
        {
          "output_type": "execute_result",
          "data": {
            "text/plain": [
              "nan"
            ]
          },
          "metadata": {},
          "execution_count": 19
        }
      ]
    }
  ]
}