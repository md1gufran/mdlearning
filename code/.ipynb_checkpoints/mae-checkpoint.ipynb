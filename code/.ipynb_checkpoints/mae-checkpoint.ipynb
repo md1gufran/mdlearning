{
 "cells": [
  {
   "cell_type": "code",
   "execution_count": 1,
   "id": "1afb4673",
   "metadata": {},
   "outputs": [],
   "source": [
    "import numpy as np"
   ]
  },
  {
   "cell_type": "code",
   "execution_count": 6,
   "id": "f9f4bcf7",
   "metadata": {},
   "outputs": [
    {
     "name": "stdout",
     "output_type": "stream",
     "text": [
      "[0.19630232 0.27451459 0.52998199 0.83417827 0.34992277]\n",
      "[1. 1. 1. 1. 1.]\n"
     ]
    }
   ],
   "source": [
    "y_predicted = np.random.rand(5)\n",
    "y_true = np.full(5,1,dtype=float)\n",
    "\n",
    "print(y_predicted)\n",
    "print(y_true)"
   ]
  },
  {
   "cell_type": "code",
   "execution_count": 17,
   "id": "017db574",
   "metadata": {},
   "outputs": [
    {
     "name": "stdout",
     "output_type": "stream",
     "text": [
      "0.5630200127113516\n",
      "\n",
      "0.5630200127113516\n"
     ]
    }
   ],
   "source": [
    "#mean absolute error and mean squred error\n",
    "def mae(y_predicted,y_true):\n",
    "    total_error = 0\n",
    "    for i in range(0,len(y_true)):\n",
    "        total_error += abs(y_predicted[i]-y_true[i])\n",
    "    return total_error/len(y_true)\n",
    "\n",
    "y = mae(y_predicted,y_true)\n",
    "print(y)\n",
    "print()\n",
    "\n",
    "#now by using the numpy function\n",
    "y = np.mean(abs(y_predicted-y_true))\n",
    "print(y)"
   ]
  },
  {
   "cell_type": "code",
   "execution_count": null,
   "id": "c87c895f",
   "metadata": {},
   "outputs": [],
   "source": []
  },
  {
   "cell_type": "code",
   "execution_count": 22,
   "id": "d730b673",
   "metadata": {},
   "outputs": [
    {
     "name": "stdout",
     "output_type": "stream",
     "text": [
      "0.36865464476538673\n",
      "\n",
      "0.36865464476538673\n"
     ]
    }
   ],
   "source": [
    "#now doing the mean squred error\n",
    "def mse(y_predicted,y_true):\n",
    "    total_error = 0\n",
    "    for i in range(0,len(y_true)):\n",
    "        total_error += (y_predicted[i]-y_true[i])**2\n",
    "    return total_error/len(y_true)\n",
    "y = mse(y_predicted,y_true)\n",
    "print(y)\n",
    "print()\n",
    "#now using the numpy array\n",
    "y = np.mean(np.square(y_predicted-y_true))\n",
    "print(y)"
   ]
  },
  {
   "cell_type": "code",
   "execution_count": 24,
   "id": "7aa5dc1a",
   "metadata": {},
   "outputs": [
    {
     "name": "stdout",
     "output_type": "stream",
     "text": [
      "-0.746964662164328\n"
     ]
    }
   ],
   "source": [
    "def loss_function(y_predicted,y_true):\n",
    "    epsilon = 1e-15\n",
    "    y_predicted_new = np.where(y_predicted==0,epsilon,y_predicted)\n",
    "    y_predicted_new = np.where(y_predicted==1,1-epsilon,y_predicted_new)\n",
    "    return -np.mean(y_true*np.log(y_predicted_new)+(1-y_true*np.log(1-y_predicted_new)))\n",
    "\n",
    "y = loss_function(y_predicted,y_true)\n",
    "print(y)"
   ]
  }
 ],
 "metadata": {
  "kernelspec": {
   "display_name": "Python 3 (ipykernel)",
   "language": "python",
   "name": "python3"
  },
  "language_info": {
   "codemirror_mode": {
    "name": "ipython",
    "version": 3
   },
   "file_extension": ".py",
   "mimetype": "text/x-python",
   "name": "python",
   "nbconvert_exporter": "python",
   "pygments_lexer": "ipython3",
   "version": "3.10.12"
  }
 },
 "nbformat": 4,
 "nbformat_minor": 5
}
