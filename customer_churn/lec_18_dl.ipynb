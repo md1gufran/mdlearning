{
  "nbformat": 4,
  "nbformat_minor": 0,
  "metadata": {
    "colab": {
      "provenance": []
    },
    "kernelspec": {
      "name": "python3",
      "display_name": "Python 3"
    },
    "language_info": {
      "name": "python"
    }
  },
  "cells": [
    {
      "cell_type": "code",
      "execution_count": 22,
      "metadata": {
        "id": "8si1AltqAtn8"
      },
      "outputs": [],
      "source": [
        "import numpy as np\n",
        "import pandas as pd\n",
        "import matplotlib.pyplot as plt"
      ]
    },
    {
      "cell_type": "code",
      "source": [
        "df = pd.read_csv(\"telco_customer.csv\")\n",
        "df.sample(3)\n",
        "drop_class = ['customerID','InternetService','Contract','PaymentMethod']\n",
        "for col in drop_class:\n",
        "  df = df.drop(col,axis='columns')\n",
        "df.sample(3)\n",
        "len(df.columns)\n",
        "df.columns\n",
        "df.head(3)"
      ],
      "metadata": {
        "colab": {
          "base_uri": "https://localhost:8080/",
          "height": 163
        },
        "id": "mWizg9eTA_NH",
        "outputId": "543bb6b2-7271-4912-a34f-a2e3de8e939d"
      },
      "execution_count": 68,
      "outputs": [
        {
          "output_type": "execute_result",
          "data": {
            "text/plain": [
              "   gender  SeniorCitizen Partner Dependents  tenure PhoneService  \\\n",
              "0  Female              0     Yes         No       1           No   \n",
              "1    Male              0      No         No      34          Yes   \n",
              "2    Male              0      No         No       2          Yes   \n",
              "\n",
              "      MultipleLines OnlineSecurity OnlineBackup DeviceProtection TechSupport  \\\n",
              "0  No phone service             No          Yes               No          No   \n",
              "1                No            Yes           No              Yes          No   \n",
              "2                No            Yes          Yes               No          No   \n",
              "\n",
              "  StreamingTV StreamingMovies PaperlessBilling  MonthlyCharges TotalCharges  \\\n",
              "0          No              No              Yes           29.85        29.85   \n",
              "1          No              No               No           56.95       1889.5   \n",
              "2          No              No              Yes           53.85       108.15   \n",
              "\n",
              "  Churn  \n",
              "0    No  \n",
              "1    No  \n",
              "2   Yes  "
            ],
            "text/html": [
              "\n",
              "  <div id=\"df-60630847-6501-4025-ae39-c49061ac5e37\" class=\"colab-df-container\">\n",
              "    <div>\n",
              "<style scoped>\n",
              "    .dataframe tbody tr th:only-of-type {\n",
              "        vertical-align: middle;\n",
              "    }\n",
              "\n",
              "    .dataframe tbody tr th {\n",
              "        vertical-align: top;\n",
              "    }\n",
              "\n",
              "    .dataframe thead th {\n",
              "        text-align: right;\n",
              "    }\n",
              "</style>\n",
              "<table border=\"1\" class=\"dataframe\">\n",
              "  <thead>\n",
              "    <tr style=\"text-align: right;\">\n",
              "      <th></th>\n",
              "      <th>gender</th>\n",
              "      <th>SeniorCitizen</th>\n",
              "      <th>Partner</th>\n",
              "      <th>Dependents</th>\n",
              "      <th>tenure</th>\n",
              "      <th>PhoneService</th>\n",
              "      <th>MultipleLines</th>\n",
              "      <th>OnlineSecurity</th>\n",
              "      <th>OnlineBackup</th>\n",
              "      <th>DeviceProtection</th>\n",
              "      <th>TechSupport</th>\n",
              "      <th>StreamingTV</th>\n",
              "      <th>StreamingMovies</th>\n",
              "      <th>PaperlessBilling</th>\n",
              "      <th>MonthlyCharges</th>\n",
              "      <th>TotalCharges</th>\n",
              "      <th>Churn</th>\n",
              "    </tr>\n",
              "  </thead>\n",
              "  <tbody>\n",
              "    <tr>\n",
              "      <th>0</th>\n",
              "      <td>Female</td>\n",
              "      <td>0</td>\n",
              "      <td>Yes</td>\n",
              "      <td>No</td>\n",
              "      <td>1</td>\n",
              "      <td>No</td>\n",
              "      <td>No phone service</td>\n",
              "      <td>No</td>\n",
              "      <td>Yes</td>\n",
              "      <td>No</td>\n",
              "      <td>No</td>\n",
              "      <td>No</td>\n",
              "      <td>No</td>\n",
              "      <td>Yes</td>\n",
              "      <td>29.85</td>\n",
              "      <td>29.85</td>\n",
              "      <td>No</td>\n",
              "    </tr>\n",
              "    <tr>\n",
              "      <th>1</th>\n",
              "      <td>Male</td>\n",
              "      <td>0</td>\n",
              "      <td>No</td>\n",
              "      <td>No</td>\n",
              "      <td>34</td>\n",
              "      <td>Yes</td>\n",
              "      <td>No</td>\n",
              "      <td>Yes</td>\n",
              "      <td>No</td>\n",
              "      <td>Yes</td>\n",
              "      <td>No</td>\n",
              "      <td>No</td>\n",
              "      <td>No</td>\n",
              "      <td>No</td>\n",
              "      <td>56.95</td>\n",
              "      <td>1889.5</td>\n",
              "      <td>No</td>\n",
              "    </tr>\n",
              "    <tr>\n",
              "      <th>2</th>\n",
              "      <td>Male</td>\n",
              "      <td>0</td>\n",
              "      <td>No</td>\n",
              "      <td>No</td>\n",
              "      <td>2</td>\n",
              "      <td>Yes</td>\n",
              "      <td>No</td>\n",
              "      <td>Yes</td>\n",
              "      <td>Yes</td>\n",
              "      <td>No</td>\n",
              "      <td>No</td>\n",
              "      <td>No</td>\n",
              "      <td>No</td>\n",
              "      <td>Yes</td>\n",
              "      <td>53.85</td>\n",
              "      <td>108.15</td>\n",
              "      <td>Yes</td>\n",
              "    </tr>\n",
              "  </tbody>\n",
              "</table>\n",
              "</div>\n",
              "    <div class=\"colab-df-buttons\">\n",
              "\n",
              "  <div class=\"colab-df-container\">\n",
              "    <button class=\"colab-df-convert\" onclick=\"convertToInteractive('df-60630847-6501-4025-ae39-c49061ac5e37')\"\n",
              "            title=\"Convert this dataframe to an interactive table.\"\n",
              "            style=\"display:none;\">\n",
              "\n",
              "  <svg xmlns=\"http://www.w3.org/2000/svg\" height=\"24px\" viewBox=\"0 -960 960 960\">\n",
              "    <path d=\"M120-120v-720h720v720H120Zm60-500h600v-160H180v160Zm220 220h160v-160H400v160Zm0 220h160v-160H400v160ZM180-400h160v-160H180v160Zm440 0h160v-160H620v160ZM180-180h160v-160H180v160Zm440 0h160v-160H620v160Z\"/>\n",
              "  </svg>\n",
              "    </button>\n",
              "\n",
              "  <style>\n",
              "    .colab-df-container {\n",
              "      display:flex;\n",
              "      gap: 12px;\n",
              "    }\n",
              "\n",
              "    .colab-df-convert {\n",
              "      background-color: #E8F0FE;\n",
              "      border: none;\n",
              "      border-radius: 50%;\n",
              "      cursor: pointer;\n",
              "      display: none;\n",
              "      fill: #1967D2;\n",
              "      height: 32px;\n",
              "      padding: 0 0 0 0;\n",
              "      width: 32px;\n",
              "    }\n",
              "\n",
              "    .colab-df-convert:hover {\n",
              "      background-color: #E2EBFA;\n",
              "      box-shadow: 0px 1px 2px rgba(60, 64, 67, 0.3), 0px 1px 3px 1px rgba(60, 64, 67, 0.15);\n",
              "      fill: #174EA6;\n",
              "    }\n",
              "\n",
              "    .colab-df-buttons div {\n",
              "      margin-bottom: 4px;\n",
              "    }\n",
              "\n",
              "    [theme=dark] .colab-df-convert {\n",
              "      background-color: #3B4455;\n",
              "      fill: #D2E3FC;\n",
              "    }\n",
              "\n",
              "    [theme=dark] .colab-df-convert:hover {\n",
              "      background-color: #434B5C;\n",
              "      box-shadow: 0px 1px 3px 1px rgba(0, 0, 0, 0.15);\n",
              "      filter: drop-shadow(0px 1px 2px rgba(0, 0, 0, 0.3));\n",
              "      fill: #FFFFFF;\n",
              "    }\n",
              "  </style>\n",
              "\n",
              "    <script>\n",
              "      const buttonEl =\n",
              "        document.querySelector('#df-60630847-6501-4025-ae39-c49061ac5e37 button.colab-df-convert');\n",
              "      buttonEl.style.display =\n",
              "        google.colab.kernel.accessAllowed ? 'block' : 'none';\n",
              "\n",
              "      async function convertToInteractive(key) {\n",
              "        const element = document.querySelector('#df-60630847-6501-4025-ae39-c49061ac5e37');\n",
              "        const dataTable =\n",
              "          await google.colab.kernel.invokeFunction('convertToInteractive',\n",
              "                                                    [key], {});\n",
              "        if (!dataTable) return;\n",
              "\n",
              "        const docLinkHtml = 'Like what you see? Visit the ' +\n",
              "          '<a target=\"_blank\" href=https://colab.research.google.com/notebooks/data_table.ipynb>data table notebook</a>'\n",
              "          + ' to learn more about interactive tables.';\n",
              "        element.innerHTML = '';\n",
              "        dataTable['output_type'] = 'display_data';\n",
              "        await google.colab.output.renderOutput(dataTable, element);\n",
              "        const docLink = document.createElement('div');\n",
              "        docLink.innerHTML = docLinkHtml;\n",
              "        element.appendChild(docLink);\n",
              "      }\n",
              "    </script>\n",
              "  </div>\n",
              "\n",
              "\n",
              "<div id=\"df-6ab30841-a06a-4bb9-aa20-7b379f036451\">\n",
              "  <button class=\"colab-df-quickchart\" onclick=\"quickchart('df-6ab30841-a06a-4bb9-aa20-7b379f036451')\"\n",
              "            title=\"Suggest charts\"\n",
              "            style=\"display:none;\">\n",
              "\n",
              "<svg xmlns=\"http://www.w3.org/2000/svg\" height=\"24px\"viewBox=\"0 0 24 24\"\n",
              "     width=\"24px\">\n",
              "    <g>\n",
              "        <path d=\"M19 3H5c-1.1 0-2 .9-2 2v14c0 1.1.9 2 2 2h14c1.1 0 2-.9 2-2V5c0-1.1-.9-2-2-2zM9 17H7v-7h2v7zm4 0h-2V7h2v10zm4 0h-2v-4h2v4z\"/>\n",
              "    </g>\n",
              "</svg>\n",
              "  </button>\n",
              "\n",
              "<style>\n",
              "  .colab-df-quickchart {\n",
              "      --bg-color: #E8F0FE;\n",
              "      --fill-color: #1967D2;\n",
              "      --hover-bg-color: #E2EBFA;\n",
              "      --hover-fill-color: #174EA6;\n",
              "      --disabled-fill-color: #AAA;\n",
              "      --disabled-bg-color: #DDD;\n",
              "  }\n",
              "\n",
              "  [theme=dark] .colab-df-quickchart {\n",
              "      --bg-color: #3B4455;\n",
              "      --fill-color: #D2E3FC;\n",
              "      --hover-bg-color: #434B5C;\n",
              "      --hover-fill-color: #FFFFFF;\n",
              "      --disabled-bg-color: #3B4455;\n",
              "      --disabled-fill-color: #666;\n",
              "  }\n",
              "\n",
              "  .colab-df-quickchart {\n",
              "    background-color: var(--bg-color);\n",
              "    border: none;\n",
              "    border-radius: 50%;\n",
              "    cursor: pointer;\n",
              "    display: none;\n",
              "    fill: var(--fill-color);\n",
              "    height: 32px;\n",
              "    padding: 0;\n",
              "    width: 32px;\n",
              "  }\n",
              "\n",
              "  .colab-df-quickchart:hover {\n",
              "    background-color: var(--hover-bg-color);\n",
              "    box-shadow: 0 1px 2px rgba(60, 64, 67, 0.3), 0 1px 3px 1px rgba(60, 64, 67, 0.15);\n",
              "    fill: var(--button-hover-fill-color);\n",
              "  }\n",
              "\n",
              "  .colab-df-quickchart-complete:disabled,\n",
              "  .colab-df-quickchart-complete:disabled:hover {\n",
              "    background-color: var(--disabled-bg-color);\n",
              "    fill: var(--disabled-fill-color);\n",
              "    box-shadow: none;\n",
              "  }\n",
              "\n",
              "  .colab-df-spinner {\n",
              "    border: 2px solid var(--fill-color);\n",
              "    border-color: transparent;\n",
              "    border-bottom-color: var(--fill-color);\n",
              "    animation:\n",
              "      spin 1s steps(1) infinite;\n",
              "  }\n",
              "\n",
              "  @keyframes spin {\n",
              "    0% {\n",
              "      border-color: transparent;\n",
              "      border-bottom-color: var(--fill-color);\n",
              "      border-left-color: var(--fill-color);\n",
              "    }\n",
              "    20% {\n",
              "      border-color: transparent;\n",
              "      border-left-color: var(--fill-color);\n",
              "      border-top-color: var(--fill-color);\n",
              "    }\n",
              "    30% {\n",
              "      border-color: transparent;\n",
              "      border-left-color: var(--fill-color);\n",
              "      border-top-color: var(--fill-color);\n",
              "      border-right-color: var(--fill-color);\n",
              "    }\n",
              "    40% {\n",
              "      border-color: transparent;\n",
              "      border-right-color: var(--fill-color);\n",
              "      border-top-color: var(--fill-color);\n",
              "    }\n",
              "    60% {\n",
              "      border-color: transparent;\n",
              "      border-right-color: var(--fill-color);\n",
              "    }\n",
              "    80% {\n",
              "      border-color: transparent;\n",
              "      border-right-color: var(--fill-color);\n",
              "      border-bottom-color: var(--fill-color);\n",
              "    }\n",
              "    90% {\n",
              "      border-color: transparent;\n",
              "      border-bottom-color: var(--fill-color);\n",
              "    }\n",
              "  }\n",
              "</style>\n",
              "\n",
              "  <script>\n",
              "    async function quickchart(key) {\n",
              "      const quickchartButtonEl =\n",
              "        document.querySelector('#' + key + ' button');\n",
              "      quickchartButtonEl.disabled = true;  // To prevent multiple clicks.\n",
              "      quickchartButtonEl.classList.add('colab-df-spinner');\n",
              "      try {\n",
              "        const charts = await google.colab.kernel.invokeFunction(\n",
              "            'suggestCharts', [key], {});\n",
              "      } catch (error) {\n",
              "        console.error('Error during call to suggestCharts:', error);\n",
              "      }\n",
              "      quickchartButtonEl.classList.remove('colab-df-spinner');\n",
              "      quickchartButtonEl.classList.add('colab-df-quickchart-complete');\n",
              "    }\n",
              "    (() => {\n",
              "      let quickchartButtonEl =\n",
              "        document.querySelector('#df-6ab30841-a06a-4bb9-aa20-7b379f036451 button');\n",
              "      quickchartButtonEl.style.display =\n",
              "        google.colab.kernel.accessAllowed ? 'block' : 'none';\n",
              "    })();\n",
              "  </script>\n",
              "</div>\n",
              "\n",
              "    </div>\n",
              "  </div>\n"
            ]
          },
          "metadata": {},
          "execution_count": 68
        }
      ]
    },
    {
      "cell_type": "code",
      "source": [
        "for column in df:\n",
        "  print(f'{column}: {df[column].unique()}')"
      ],
      "metadata": {
        "colab": {
          "base_uri": "https://localhost:8080/"
        },
        "id": "jv2j1JMUDX3f",
        "outputId": "f96c2fae-7f5d-4f5f-d819-d7b34dee7ad4"
      },
      "execution_count": 25,
      "outputs": [
        {
          "output_type": "stream",
          "name": "stdout",
          "text": [
            "gender: ['Female' 'Male']\n",
            "SeniorCitizen: [0 1]\n",
            "Partner: ['Yes' 'No']\n",
            "Dependents: ['No' 'Yes']\n",
            "tenure: [ 1 34  2 45  8 22 10 28 62 13 16 58 49 25 69 52 71 21 12 30 47 72 17 27\n",
            "  5 46 11 70 63 43 15 60 18 66  9  3 31 50 64 56  7 42 35 48 29 65 38 68\n",
            " 32 55 37 36 41  6  4 33 67 23 57 61 14 20 53 40 59 24 44 19 54 51 26  0\n",
            " 39]\n",
            "PhoneService: ['No' 'Yes']\n",
            "MultipleLines: ['No phone service' 'No' 'Yes']\n",
            "OnlineSecurity: ['No' 'Yes' 'No internet service']\n",
            "OnlineBackup: ['Yes' 'No' 'No internet service']\n",
            "DeviceProtection: ['No' 'Yes' 'No internet service']\n",
            "TechSupport: ['No' 'Yes' 'No internet service']\n",
            "StreamingTV: ['No' 'Yes' 'No internet service']\n",
            "StreamingMovies: ['No' 'Yes' 'No internet service']\n",
            "PaperlessBilling: ['Yes' 'No']\n",
            "MonthlyCharges: [29.85 56.95 53.85 ... 63.1  44.2  78.7 ]\n",
            "TotalCharges: ['29.85' '1889.5' '108.15' ... '346.45' '306.6' '6844.5']\n",
            "Churn: ['No' 'Yes']\n"
          ]
        }
      ]
    },
    {
      "cell_type": "code",
      "source": [
        "df.replace({'Female':1,'Male':0},inplace=True)\n",
        "col_yes_no = ['Partner','Dependents','PhoneService','MultipleLines','OnlineSecurity','OnlineBackup','DeviceProtection',\n",
        "              'TechSupport','StreamingTV','StreamingMovies','PaperlessBilling','Churn']\n",
        "for col in col_yes_no:\n",
        "  df[col].replace('Yes',1,inplace=True)\n",
        "  df[col].replace('No',0,inplace=True)\n",
        "df.info()\n",
        "for col in df:\n",
        "  print(f'{col}: {df[col].unique()}')\n",
        "df.head(3)"
      ],
      "metadata": {
        "colab": {
          "base_uri": "https://localhost:8080/",
          "height": 946
        },
        "id": "2B352pVqE06t",
        "outputId": "f63e80e4-0825-431c-8b77-35104eb5fecb"
      },
      "execution_count": 69,
      "outputs": [
        {
          "output_type": "stream",
          "name": "stdout",
          "text": [
            "<class 'pandas.core.frame.DataFrame'>\n",
            "RangeIndex: 7043 entries, 0 to 7042\n",
            "Data columns (total 17 columns):\n",
            " #   Column            Non-Null Count  Dtype  \n",
            "---  ------            --------------  -----  \n",
            " 0   gender            7043 non-null   int64  \n",
            " 1   SeniorCitizen     7043 non-null   int64  \n",
            " 2   Partner           7043 non-null   int64  \n",
            " 3   Dependents        7043 non-null   int64  \n",
            " 4   tenure            7043 non-null   int64  \n",
            " 5   PhoneService      7043 non-null   int64  \n",
            " 6   MultipleLines     7043 non-null   object \n",
            " 7   OnlineSecurity    7043 non-null   object \n",
            " 8   OnlineBackup      7043 non-null   object \n",
            " 9   DeviceProtection  7043 non-null   object \n",
            " 10  TechSupport       7043 non-null   object \n",
            " 11  StreamingTV       7043 non-null   object \n",
            " 12  StreamingMovies   7043 non-null   object \n",
            " 13  PaperlessBilling  7043 non-null   int64  \n",
            " 14  MonthlyCharges    7043 non-null   float64\n",
            " 15  TotalCharges      7043 non-null   object \n",
            " 16  Churn             7043 non-null   int64  \n",
            "dtypes: float64(1), int64(8), object(8)\n",
            "memory usage: 935.5+ KB\n",
            "gender: [1 0]\n",
            "SeniorCitizen: [0 1]\n",
            "Partner: [1 0]\n",
            "Dependents: [0 1]\n",
            "tenure: [ 1 34  2 45  8 22 10 28 62 13 16 58 49 25 69 52 71 21 12 30 47 72 17 27\n",
            "  5 46 11 70 63 43 15 60 18 66  9  3 31 50 64 56  7 42 35 48 29 65 38 68\n",
            " 32 55 37 36 41  6  4 33 67 23 57 61 14 20 53 40 59 24 44 19 54 51 26  0\n",
            " 39]\n",
            "PhoneService: [0 1]\n",
            "MultipleLines: ['No phone service' 0 1]\n",
            "OnlineSecurity: [0 1 'No internet service']\n",
            "OnlineBackup: [1 0 'No internet service']\n",
            "DeviceProtection: [0 1 'No internet service']\n",
            "TechSupport: [0 1 'No internet service']\n",
            "StreamingTV: [0 1 'No internet service']\n",
            "StreamingMovies: [0 1 'No internet service']\n",
            "PaperlessBilling: [1 0]\n",
            "MonthlyCharges: [29.85 56.95 53.85 ... 63.1  44.2  78.7 ]\n",
            "TotalCharges: ['29.85' '1889.5' '108.15' ... '346.45' '306.6' '6844.5']\n",
            "Churn: [0 1]\n"
          ]
        },
        {
          "output_type": "execute_result",
          "data": {
            "text/plain": [
              "   gender  SeniorCitizen  Partner  Dependents  tenure  PhoneService  \\\n",
              "0       1              0        1           0       1             0   \n",
              "1       0              0        0           0      34             1   \n",
              "2       0              0        0           0       2             1   \n",
              "\n",
              "      MultipleLines OnlineSecurity OnlineBackup DeviceProtection TechSupport  \\\n",
              "0  No phone service              0            1                0           0   \n",
              "1                 0              1            0                1           0   \n",
              "2                 0              1            1                0           0   \n",
              "\n",
              "  StreamingTV StreamingMovies  PaperlessBilling  MonthlyCharges TotalCharges  \\\n",
              "0           0               0                 1           29.85        29.85   \n",
              "1           0               0                 0           56.95       1889.5   \n",
              "2           0               0                 1           53.85       108.15   \n",
              "\n",
              "   Churn  \n",
              "0      0  \n",
              "1      0  \n",
              "2      1  "
            ],
            "text/html": [
              "\n",
              "  <div id=\"df-47768be8-d492-4650-84d4-d397514c5f50\" class=\"colab-df-container\">\n",
              "    <div>\n",
              "<style scoped>\n",
              "    .dataframe tbody tr th:only-of-type {\n",
              "        vertical-align: middle;\n",
              "    }\n",
              "\n",
              "    .dataframe tbody tr th {\n",
              "        vertical-align: top;\n",
              "    }\n",
              "\n",
              "    .dataframe thead th {\n",
              "        text-align: right;\n",
              "    }\n",
              "</style>\n",
              "<table border=\"1\" class=\"dataframe\">\n",
              "  <thead>\n",
              "    <tr style=\"text-align: right;\">\n",
              "      <th></th>\n",
              "      <th>gender</th>\n",
              "      <th>SeniorCitizen</th>\n",
              "      <th>Partner</th>\n",
              "      <th>Dependents</th>\n",
              "      <th>tenure</th>\n",
              "      <th>PhoneService</th>\n",
              "      <th>MultipleLines</th>\n",
              "      <th>OnlineSecurity</th>\n",
              "      <th>OnlineBackup</th>\n",
              "      <th>DeviceProtection</th>\n",
              "      <th>TechSupport</th>\n",
              "      <th>StreamingTV</th>\n",
              "      <th>StreamingMovies</th>\n",
              "      <th>PaperlessBilling</th>\n",
              "      <th>MonthlyCharges</th>\n",
              "      <th>TotalCharges</th>\n",
              "      <th>Churn</th>\n",
              "    </tr>\n",
              "  </thead>\n",
              "  <tbody>\n",
              "    <tr>\n",
              "      <th>0</th>\n",
              "      <td>1</td>\n",
              "      <td>0</td>\n",
              "      <td>1</td>\n",
              "      <td>0</td>\n",
              "      <td>1</td>\n",
              "      <td>0</td>\n",
              "      <td>No phone service</td>\n",
              "      <td>0</td>\n",
              "      <td>1</td>\n",
              "      <td>0</td>\n",
              "      <td>0</td>\n",
              "      <td>0</td>\n",
              "      <td>0</td>\n",
              "      <td>1</td>\n",
              "      <td>29.85</td>\n",
              "      <td>29.85</td>\n",
              "      <td>0</td>\n",
              "    </tr>\n",
              "    <tr>\n",
              "      <th>1</th>\n",
              "      <td>0</td>\n",
              "      <td>0</td>\n",
              "      <td>0</td>\n",
              "      <td>0</td>\n",
              "      <td>34</td>\n",
              "      <td>1</td>\n",
              "      <td>0</td>\n",
              "      <td>1</td>\n",
              "      <td>0</td>\n",
              "      <td>1</td>\n",
              "      <td>0</td>\n",
              "      <td>0</td>\n",
              "      <td>0</td>\n",
              "      <td>0</td>\n",
              "      <td>56.95</td>\n",
              "      <td>1889.5</td>\n",
              "      <td>0</td>\n",
              "    </tr>\n",
              "    <tr>\n",
              "      <th>2</th>\n",
              "      <td>0</td>\n",
              "      <td>0</td>\n",
              "      <td>0</td>\n",
              "      <td>0</td>\n",
              "      <td>2</td>\n",
              "      <td>1</td>\n",
              "      <td>0</td>\n",
              "      <td>1</td>\n",
              "      <td>1</td>\n",
              "      <td>0</td>\n",
              "      <td>0</td>\n",
              "      <td>0</td>\n",
              "      <td>0</td>\n",
              "      <td>1</td>\n",
              "      <td>53.85</td>\n",
              "      <td>108.15</td>\n",
              "      <td>1</td>\n",
              "    </tr>\n",
              "  </tbody>\n",
              "</table>\n",
              "</div>\n",
              "    <div class=\"colab-df-buttons\">\n",
              "\n",
              "  <div class=\"colab-df-container\">\n",
              "    <button class=\"colab-df-convert\" onclick=\"convertToInteractive('df-47768be8-d492-4650-84d4-d397514c5f50')\"\n",
              "            title=\"Convert this dataframe to an interactive table.\"\n",
              "            style=\"display:none;\">\n",
              "\n",
              "  <svg xmlns=\"http://www.w3.org/2000/svg\" height=\"24px\" viewBox=\"0 -960 960 960\">\n",
              "    <path d=\"M120-120v-720h720v720H120Zm60-500h600v-160H180v160Zm220 220h160v-160H400v160Zm0 220h160v-160H400v160ZM180-400h160v-160H180v160Zm440 0h160v-160H620v160ZM180-180h160v-160H180v160Zm440 0h160v-160H620v160Z\"/>\n",
              "  </svg>\n",
              "    </button>\n",
              "\n",
              "  <style>\n",
              "    .colab-df-container {\n",
              "      display:flex;\n",
              "      gap: 12px;\n",
              "    }\n",
              "\n",
              "    .colab-df-convert {\n",
              "      background-color: #E8F0FE;\n",
              "      border: none;\n",
              "      border-radius: 50%;\n",
              "      cursor: pointer;\n",
              "      display: none;\n",
              "      fill: #1967D2;\n",
              "      height: 32px;\n",
              "      padding: 0 0 0 0;\n",
              "      width: 32px;\n",
              "    }\n",
              "\n",
              "    .colab-df-convert:hover {\n",
              "      background-color: #E2EBFA;\n",
              "      box-shadow: 0px 1px 2px rgba(60, 64, 67, 0.3), 0px 1px 3px 1px rgba(60, 64, 67, 0.15);\n",
              "      fill: #174EA6;\n",
              "    }\n",
              "\n",
              "    .colab-df-buttons div {\n",
              "      margin-bottom: 4px;\n",
              "    }\n",
              "\n",
              "    [theme=dark] .colab-df-convert {\n",
              "      background-color: #3B4455;\n",
              "      fill: #D2E3FC;\n",
              "    }\n",
              "\n",
              "    [theme=dark] .colab-df-convert:hover {\n",
              "      background-color: #434B5C;\n",
              "      box-shadow: 0px 1px 3px 1px rgba(0, 0, 0, 0.15);\n",
              "      filter: drop-shadow(0px 1px 2px rgba(0, 0, 0, 0.3));\n",
              "      fill: #FFFFFF;\n",
              "    }\n",
              "  </style>\n",
              "\n",
              "    <script>\n",
              "      const buttonEl =\n",
              "        document.querySelector('#df-47768be8-d492-4650-84d4-d397514c5f50 button.colab-df-convert');\n",
              "      buttonEl.style.display =\n",
              "        google.colab.kernel.accessAllowed ? 'block' : 'none';\n",
              "\n",
              "      async function convertToInteractive(key) {\n",
              "        const element = document.querySelector('#df-47768be8-d492-4650-84d4-d397514c5f50');\n",
              "        const dataTable =\n",
              "          await google.colab.kernel.invokeFunction('convertToInteractive',\n",
              "                                                    [key], {});\n",
              "        if (!dataTable) return;\n",
              "\n",
              "        const docLinkHtml = 'Like what you see? Visit the ' +\n",
              "          '<a target=\"_blank\" href=https://colab.research.google.com/notebooks/data_table.ipynb>data table notebook</a>'\n",
              "          + ' to learn more about interactive tables.';\n",
              "        element.innerHTML = '';\n",
              "        dataTable['output_type'] = 'display_data';\n",
              "        await google.colab.output.renderOutput(dataTable, element);\n",
              "        const docLink = document.createElement('div');\n",
              "        docLink.innerHTML = docLinkHtml;\n",
              "        element.appendChild(docLink);\n",
              "      }\n",
              "    </script>\n",
              "  </div>\n",
              "\n",
              "\n",
              "<div id=\"df-ad809cca-a711-41ab-92ac-aa9bd996b6d2\">\n",
              "  <button class=\"colab-df-quickchart\" onclick=\"quickchart('df-ad809cca-a711-41ab-92ac-aa9bd996b6d2')\"\n",
              "            title=\"Suggest charts\"\n",
              "            style=\"display:none;\">\n",
              "\n",
              "<svg xmlns=\"http://www.w3.org/2000/svg\" height=\"24px\"viewBox=\"0 0 24 24\"\n",
              "     width=\"24px\">\n",
              "    <g>\n",
              "        <path d=\"M19 3H5c-1.1 0-2 .9-2 2v14c0 1.1.9 2 2 2h14c1.1 0 2-.9 2-2V5c0-1.1-.9-2-2-2zM9 17H7v-7h2v7zm4 0h-2V7h2v10zm4 0h-2v-4h2v4z\"/>\n",
              "    </g>\n",
              "</svg>\n",
              "  </button>\n",
              "\n",
              "<style>\n",
              "  .colab-df-quickchart {\n",
              "      --bg-color: #E8F0FE;\n",
              "      --fill-color: #1967D2;\n",
              "      --hover-bg-color: #E2EBFA;\n",
              "      --hover-fill-color: #174EA6;\n",
              "      --disabled-fill-color: #AAA;\n",
              "      --disabled-bg-color: #DDD;\n",
              "  }\n",
              "\n",
              "  [theme=dark] .colab-df-quickchart {\n",
              "      --bg-color: #3B4455;\n",
              "      --fill-color: #D2E3FC;\n",
              "      --hover-bg-color: #434B5C;\n",
              "      --hover-fill-color: #FFFFFF;\n",
              "      --disabled-bg-color: #3B4455;\n",
              "      --disabled-fill-color: #666;\n",
              "  }\n",
              "\n",
              "  .colab-df-quickchart {\n",
              "    background-color: var(--bg-color);\n",
              "    border: none;\n",
              "    border-radius: 50%;\n",
              "    cursor: pointer;\n",
              "    display: none;\n",
              "    fill: var(--fill-color);\n",
              "    height: 32px;\n",
              "    padding: 0;\n",
              "    width: 32px;\n",
              "  }\n",
              "\n",
              "  .colab-df-quickchart:hover {\n",
              "    background-color: var(--hover-bg-color);\n",
              "    box-shadow: 0 1px 2px rgba(60, 64, 67, 0.3), 0 1px 3px 1px rgba(60, 64, 67, 0.15);\n",
              "    fill: var(--button-hover-fill-color);\n",
              "  }\n",
              "\n",
              "  .colab-df-quickchart-complete:disabled,\n",
              "  .colab-df-quickchart-complete:disabled:hover {\n",
              "    background-color: var(--disabled-bg-color);\n",
              "    fill: var(--disabled-fill-color);\n",
              "    box-shadow: none;\n",
              "  }\n",
              "\n",
              "  .colab-df-spinner {\n",
              "    border: 2px solid var(--fill-color);\n",
              "    border-color: transparent;\n",
              "    border-bottom-color: var(--fill-color);\n",
              "    animation:\n",
              "      spin 1s steps(1) infinite;\n",
              "  }\n",
              "\n",
              "  @keyframes spin {\n",
              "    0% {\n",
              "      border-color: transparent;\n",
              "      border-bottom-color: var(--fill-color);\n",
              "      border-left-color: var(--fill-color);\n",
              "    }\n",
              "    20% {\n",
              "      border-color: transparent;\n",
              "      border-left-color: var(--fill-color);\n",
              "      border-top-color: var(--fill-color);\n",
              "    }\n",
              "    30% {\n",
              "      border-color: transparent;\n",
              "      border-left-color: var(--fill-color);\n",
              "      border-top-color: var(--fill-color);\n",
              "      border-right-color: var(--fill-color);\n",
              "    }\n",
              "    40% {\n",
              "      border-color: transparent;\n",
              "      border-right-color: var(--fill-color);\n",
              "      border-top-color: var(--fill-color);\n",
              "    }\n",
              "    60% {\n",
              "      border-color: transparent;\n",
              "      border-right-color: var(--fill-color);\n",
              "    }\n",
              "    80% {\n",
              "      border-color: transparent;\n",
              "      border-right-color: var(--fill-color);\n",
              "      border-bottom-color: var(--fill-color);\n",
              "    }\n",
              "    90% {\n",
              "      border-color: transparent;\n",
              "      border-bottom-color: var(--fill-color);\n",
              "    }\n",
              "  }\n",
              "</style>\n",
              "\n",
              "  <script>\n",
              "    async function quickchart(key) {\n",
              "      const quickchartButtonEl =\n",
              "        document.querySelector('#' + key + ' button');\n",
              "      quickchartButtonEl.disabled = true;  // To prevent multiple clicks.\n",
              "      quickchartButtonEl.classList.add('colab-df-spinner');\n",
              "      try {\n",
              "        const charts = await google.colab.kernel.invokeFunction(\n",
              "            'suggestCharts', [key], {});\n",
              "      } catch (error) {\n",
              "        console.error('Error during call to suggestCharts:', error);\n",
              "      }\n",
              "      quickchartButtonEl.classList.remove('colab-df-spinner');\n",
              "      quickchartButtonEl.classList.add('colab-df-quickchart-complete');\n",
              "    }\n",
              "    (() => {\n",
              "      let quickchartButtonEl =\n",
              "        document.querySelector('#df-ad809cca-a711-41ab-92ac-aa9bd996b6d2 button');\n",
              "      quickchartButtonEl.style.display =\n",
              "        google.colab.kernel.accessAllowed ? 'block' : 'none';\n",
              "    })();\n",
              "  </script>\n",
              "</div>\n",
              "\n",
              "    </div>\n",
              "  </div>\n"
            ]
          },
          "metadata": {},
          "execution_count": 69
        }
      ]
    },
    {
      "cell_type": "code",
      "source": [
        "df.head(3)"
      ],
      "metadata": {
        "colab": {
          "base_uri": "https://localhost:8080/",
          "height": 163
        },
        "id": "WmwWvYroNoz2",
        "outputId": "acf48a9a-04dd-42ff-c703-ad31cb3db65e"
      },
      "execution_count": 70,
      "outputs": [
        {
          "output_type": "execute_result",
          "data": {
            "text/plain": [
              "   gender  SeniorCitizen  Partner  Dependents  tenure  PhoneService  \\\n",
              "0       1              0        1           0       1             0   \n",
              "1       0              0        0           0      34             1   \n",
              "2       0              0        0           0       2             1   \n",
              "\n",
              "      MultipleLines OnlineSecurity OnlineBackup DeviceProtection TechSupport  \\\n",
              "0  No phone service              0            1                0           0   \n",
              "1                 0              1            0                1           0   \n",
              "2                 0              1            1                0           0   \n",
              "\n",
              "  StreamingTV StreamingMovies  PaperlessBilling  MonthlyCharges TotalCharges  \\\n",
              "0           0               0                 1           29.85        29.85   \n",
              "1           0               0                 0           56.95       1889.5   \n",
              "2           0               0                 1           53.85       108.15   \n",
              "\n",
              "   Churn  \n",
              "0      0  \n",
              "1      0  \n",
              "2      1  "
            ],
            "text/html": [
              "\n",
              "  <div id=\"df-35c3dfe2-93cf-42a3-a00d-a7b449e95674\" class=\"colab-df-container\">\n",
              "    <div>\n",
              "<style scoped>\n",
              "    .dataframe tbody tr th:only-of-type {\n",
              "        vertical-align: middle;\n",
              "    }\n",
              "\n",
              "    .dataframe tbody tr th {\n",
              "        vertical-align: top;\n",
              "    }\n",
              "\n",
              "    .dataframe thead th {\n",
              "        text-align: right;\n",
              "    }\n",
              "</style>\n",
              "<table border=\"1\" class=\"dataframe\">\n",
              "  <thead>\n",
              "    <tr style=\"text-align: right;\">\n",
              "      <th></th>\n",
              "      <th>gender</th>\n",
              "      <th>SeniorCitizen</th>\n",
              "      <th>Partner</th>\n",
              "      <th>Dependents</th>\n",
              "      <th>tenure</th>\n",
              "      <th>PhoneService</th>\n",
              "      <th>MultipleLines</th>\n",
              "      <th>OnlineSecurity</th>\n",
              "      <th>OnlineBackup</th>\n",
              "      <th>DeviceProtection</th>\n",
              "      <th>TechSupport</th>\n",
              "      <th>StreamingTV</th>\n",
              "      <th>StreamingMovies</th>\n",
              "      <th>PaperlessBilling</th>\n",
              "      <th>MonthlyCharges</th>\n",
              "      <th>TotalCharges</th>\n",
              "      <th>Churn</th>\n",
              "    </tr>\n",
              "  </thead>\n",
              "  <tbody>\n",
              "    <tr>\n",
              "      <th>0</th>\n",
              "      <td>1</td>\n",
              "      <td>0</td>\n",
              "      <td>1</td>\n",
              "      <td>0</td>\n",
              "      <td>1</td>\n",
              "      <td>0</td>\n",
              "      <td>No phone service</td>\n",
              "      <td>0</td>\n",
              "      <td>1</td>\n",
              "      <td>0</td>\n",
              "      <td>0</td>\n",
              "      <td>0</td>\n",
              "      <td>0</td>\n",
              "      <td>1</td>\n",
              "      <td>29.85</td>\n",
              "      <td>29.85</td>\n",
              "      <td>0</td>\n",
              "    </tr>\n",
              "    <tr>\n",
              "      <th>1</th>\n",
              "      <td>0</td>\n",
              "      <td>0</td>\n",
              "      <td>0</td>\n",
              "      <td>0</td>\n",
              "      <td>34</td>\n",
              "      <td>1</td>\n",
              "      <td>0</td>\n",
              "      <td>1</td>\n",
              "      <td>0</td>\n",
              "      <td>1</td>\n",
              "      <td>0</td>\n",
              "      <td>0</td>\n",
              "      <td>0</td>\n",
              "      <td>0</td>\n",
              "      <td>56.95</td>\n",
              "      <td>1889.5</td>\n",
              "      <td>0</td>\n",
              "    </tr>\n",
              "    <tr>\n",
              "      <th>2</th>\n",
              "      <td>0</td>\n",
              "      <td>0</td>\n",
              "      <td>0</td>\n",
              "      <td>0</td>\n",
              "      <td>2</td>\n",
              "      <td>1</td>\n",
              "      <td>0</td>\n",
              "      <td>1</td>\n",
              "      <td>1</td>\n",
              "      <td>0</td>\n",
              "      <td>0</td>\n",
              "      <td>0</td>\n",
              "      <td>0</td>\n",
              "      <td>1</td>\n",
              "      <td>53.85</td>\n",
              "      <td>108.15</td>\n",
              "      <td>1</td>\n",
              "    </tr>\n",
              "  </tbody>\n",
              "</table>\n",
              "</div>\n",
              "    <div class=\"colab-df-buttons\">\n",
              "\n",
              "  <div class=\"colab-df-container\">\n",
              "    <button class=\"colab-df-convert\" onclick=\"convertToInteractive('df-35c3dfe2-93cf-42a3-a00d-a7b449e95674')\"\n",
              "            title=\"Convert this dataframe to an interactive table.\"\n",
              "            style=\"display:none;\">\n",
              "\n",
              "  <svg xmlns=\"http://www.w3.org/2000/svg\" height=\"24px\" viewBox=\"0 -960 960 960\">\n",
              "    <path d=\"M120-120v-720h720v720H120Zm60-500h600v-160H180v160Zm220 220h160v-160H400v160Zm0 220h160v-160H400v160ZM180-400h160v-160H180v160Zm440 0h160v-160H620v160ZM180-180h160v-160H180v160Zm440 0h160v-160H620v160Z\"/>\n",
              "  </svg>\n",
              "    </button>\n",
              "\n",
              "  <style>\n",
              "    .colab-df-container {\n",
              "      display:flex;\n",
              "      gap: 12px;\n",
              "    }\n",
              "\n",
              "    .colab-df-convert {\n",
              "      background-color: #E8F0FE;\n",
              "      border: none;\n",
              "      border-radius: 50%;\n",
              "      cursor: pointer;\n",
              "      display: none;\n",
              "      fill: #1967D2;\n",
              "      height: 32px;\n",
              "      padding: 0 0 0 0;\n",
              "      width: 32px;\n",
              "    }\n",
              "\n",
              "    .colab-df-convert:hover {\n",
              "      background-color: #E2EBFA;\n",
              "      box-shadow: 0px 1px 2px rgba(60, 64, 67, 0.3), 0px 1px 3px 1px rgba(60, 64, 67, 0.15);\n",
              "      fill: #174EA6;\n",
              "    }\n",
              "\n",
              "    .colab-df-buttons div {\n",
              "      margin-bottom: 4px;\n",
              "    }\n",
              "\n",
              "    [theme=dark] .colab-df-convert {\n",
              "      background-color: #3B4455;\n",
              "      fill: #D2E3FC;\n",
              "    }\n",
              "\n",
              "    [theme=dark] .colab-df-convert:hover {\n",
              "      background-color: #434B5C;\n",
              "      box-shadow: 0px 1px 3px 1px rgba(0, 0, 0, 0.15);\n",
              "      filter: drop-shadow(0px 1px 2px rgba(0, 0, 0, 0.3));\n",
              "      fill: #FFFFFF;\n",
              "    }\n",
              "  </style>\n",
              "\n",
              "    <script>\n",
              "      const buttonEl =\n",
              "        document.querySelector('#df-35c3dfe2-93cf-42a3-a00d-a7b449e95674 button.colab-df-convert');\n",
              "      buttonEl.style.display =\n",
              "        google.colab.kernel.accessAllowed ? 'block' : 'none';\n",
              "\n",
              "      async function convertToInteractive(key) {\n",
              "        const element = document.querySelector('#df-35c3dfe2-93cf-42a3-a00d-a7b449e95674');\n",
              "        const dataTable =\n",
              "          await google.colab.kernel.invokeFunction('convertToInteractive',\n",
              "                                                    [key], {});\n",
              "        if (!dataTable) return;\n",
              "\n",
              "        const docLinkHtml = 'Like what you see? Visit the ' +\n",
              "          '<a target=\"_blank\" href=https://colab.research.google.com/notebooks/data_table.ipynb>data table notebook</a>'\n",
              "          + ' to learn more about interactive tables.';\n",
              "        element.innerHTML = '';\n",
              "        dataTable['output_type'] = 'display_data';\n",
              "        await google.colab.output.renderOutput(dataTable, element);\n",
              "        const docLink = document.createElement('div');\n",
              "        docLink.innerHTML = docLinkHtml;\n",
              "        element.appendChild(docLink);\n",
              "      }\n",
              "    </script>\n",
              "  </div>\n",
              "\n",
              "\n",
              "<div id=\"df-ee554e62-a72c-4095-a767-7fdd32008dd7\">\n",
              "  <button class=\"colab-df-quickchart\" onclick=\"quickchart('df-ee554e62-a72c-4095-a767-7fdd32008dd7')\"\n",
              "            title=\"Suggest charts\"\n",
              "            style=\"display:none;\">\n",
              "\n",
              "<svg xmlns=\"http://www.w3.org/2000/svg\" height=\"24px\"viewBox=\"0 0 24 24\"\n",
              "     width=\"24px\">\n",
              "    <g>\n",
              "        <path d=\"M19 3H5c-1.1 0-2 .9-2 2v14c0 1.1.9 2 2 2h14c1.1 0 2-.9 2-2V5c0-1.1-.9-2-2-2zM9 17H7v-7h2v7zm4 0h-2V7h2v10zm4 0h-2v-4h2v4z\"/>\n",
              "    </g>\n",
              "</svg>\n",
              "  </button>\n",
              "\n",
              "<style>\n",
              "  .colab-df-quickchart {\n",
              "      --bg-color: #E8F0FE;\n",
              "      --fill-color: #1967D2;\n",
              "      --hover-bg-color: #E2EBFA;\n",
              "      --hover-fill-color: #174EA6;\n",
              "      --disabled-fill-color: #AAA;\n",
              "      --disabled-bg-color: #DDD;\n",
              "  }\n",
              "\n",
              "  [theme=dark] .colab-df-quickchart {\n",
              "      --bg-color: #3B4455;\n",
              "      --fill-color: #D2E3FC;\n",
              "      --hover-bg-color: #434B5C;\n",
              "      --hover-fill-color: #FFFFFF;\n",
              "      --disabled-bg-color: #3B4455;\n",
              "      --disabled-fill-color: #666;\n",
              "  }\n",
              "\n",
              "  .colab-df-quickchart {\n",
              "    background-color: var(--bg-color);\n",
              "    border: none;\n",
              "    border-radius: 50%;\n",
              "    cursor: pointer;\n",
              "    display: none;\n",
              "    fill: var(--fill-color);\n",
              "    height: 32px;\n",
              "    padding: 0;\n",
              "    width: 32px;\n",
              "  }\n",
              "\n",
              "  .colab-df-quickchart:hover {\n",
              "    background-color: var(--hover-bg-color);\n",
              "    box-shadow: 0 1px 2px rgba(60, 64, 67, 0.3), 0 1px 3px 1px rgba(60, 64, 67, 0.15);\n",
              "    fill: var(--button-hover-fill-color);\n",
              "  }\n",
              "\n",
              "  .colab-df-quickchart-complete:disabled,\n",
              "  .colab-df-quickchart-complete:disabled:hover {\n",
              "    background-color: var(--disabled-bg-color);\n",
              "    fill: var(--disabled-fill-color);\n",
              "    box-shadow: none;\n",
              "  }\n",
              "\n",
              "  .colab-df-spinner {\n",
              "    border: 2px solid var(--fill-color);\n",
              "    border-color: transparent;\n",
              "    border-bottom-color: var(--fill-color);\n",
              "    animation:\n",
              "      spin 1s steps(1) infinite;\n",
              "  }\n",
              "\n",
              "  @keyframes spin {\n",
              "    0% {\n",
              "      border-color: transparent;\n",
              "      border-bottom-color: var(--fill-color);\n",
              "      border-left-color: var(--fill-color);\n",
              "    }\n",
              "    20% {\n",
              "      border-color: transparent;\n",
              "      border-left-color: var(--fill-color);\n",
              "      border-top-color: var(--fill-color);\n",
              "    }\n",
              "    30% {\n",
              "      border-color: transparent;\n",
              "      border-left-color: var(--fill-color);\n",
              "      border-top-color: var(--fill-color);\n",
              "      border-right-color: var(--fill-color);\n",
              "    }\n",
              "    40% {\n",
              "      border-color: transparent;\n",
              "      border-right-color: var(--fill-color);\n",
              "      border-top-color: var(--fill-color);\n",
              "    }\n",
              "    60% {\n",
              "      border-color: transparent;\n",
              "      border-right-color: var(--fill-color);\n",
              "    }\n",
              "    80% {\n",
              "      border-color: transparent;\n",
              "      border-right-color: var(--fill-color);\n",
              "      border-bottom-color: var(--fill-color);\n",
              "    }\n",
              "    90% {\n",
              "      border-color: transparent;\n",
              "      border-bottom-color: var(--fill-color);\n",
              "    }\n",
              "  }\n",
              "</style>\n",
              "\n",
              "  <script>\n",
              "    async function quickchart(key) {\n",
              "      const quickchartButtonEl =\n",
              "        document.querySelector('#' + key + ' button');\n",
              "      quickchartButtonEl.disabled = true;  // To prevent multiple clicks.\n",
              "      quickchartButtonEl.classList.add('colab-df-spinner');\n",
              "      try {\n",
              "        const charts = await google.colab.kernel.invokeFunction(\n",
              "            'suggestCharts', [key], {});\n",
              "      } catch (error) {\n",
              "        console.error('Error during call to suggestCharts:', error);\n",
              "      }\n",
              "      quickchartButtonEl.classList.remove('colab-df-spinner');\n",
              "      quickchartButtonEl.classList.add('colab-df-quickchart-complete');\n",
              "    }\n",
              "    (() => {\n",
              "      let quickchartButtonEl =\n",
              "        document.querySelector('#df-ee554e62-a72c-4095-a767-7fdd32008dd7 button');\n",
              "      quickchartButtonEl.style.display =\n",
              "        google.colab.kernel.accessAllowed ? 'block' : 'none';\n",
              "    })();\n",
              "  </script>\n",
              "</div>\n",
              "\n",
              "    </div>\n",
              "  </div>\n"
            ]
          },
          "metadata": {},
          "execution_count": 70
        }
      ]
    },
    {
      "cell_type": "code",
      "source": [
        "help_class = ['OnlineSecurity','OnlineBackup','DeviceProtection',\n",
        "              'TechSupport','StreamingTV','StreamingMovies']\n",
        "for col in help_class:\n",
        "  df[col].replace({'No internet service':0},inplace=True)\n",
        "df['MultipleLines'].replace({'No phone service':0},inplace=True)\n",
        "df.info()"
      ],
      "metadata": {
        "colab": {
          "base_uri": "https://localhost:8080/"
        },
        "id": "FbBcdQ6HNrDE",
        "outputId": "b538a4b1-8f70-4852-9acf-ba8d54f68b6e"
      },
      "execution_count": 74,
      "outputs": [
        {
          "output_type": "stream",
          "name": "stdout",
          "text": [
            "<class 'pandas.core.frame.DataFrame'>\n",
            "RangeIndex: 7043 entries, 0 to 7042\n",
            "Data columns (total 17 columns):\n",
            " #   Column            Non-Null Count  Dtype  \n",
            "---  ------            --------------  -----  \n",
            " 0   gender            7043 non-null   int64  \n",
            " 1   SeniorCitizen     7043 non-null   int64  \n",
            " 2   Partner           7043 non-null   int64  \n",
            " 3   Dependents        7043 non-null   int64  \n",
            " 4   tenure            7043 non-null   int64  \n",
            " 5   PhoneService      7043 non-null   int64  \n",
            " 6   MultipleLines     7043 non-null   int64  \n",
            " 7   OnlineSecurity    7043 non-null   int64  \n",
            " 8   OnlineBackup      7043 non-null   int64  \n",
            " 9   DeviceProtection  7043 non-null   int64  \n",
            " 10  TechSupport       7043 non-null   int64  \n",
            " 11  StreamingTV       7043 non-null   int64  \n",
            " 12  StreamingMovies   7043 non-null   int64  \n",
            " 13  PaperlessBilling  7043 non-null   int64  \n",
            " 14  MonthlyCharges    7043 non-null   float64\n",
            " 15  TotalCharges      7043 non-null   object \n",
            " 16  Churn             7043 non-null   int64  \n",
            "dtypes: float64(1), int64(15), object(1)\n",
            "memory usage: 935.5+ KB\n"
          ]
        }
      ]
    },
    {
      "cell_type": "code",
      "source": [
        "for col in df.columns:\n",
        "  print(f'{col}: {df[col].unique()}')"
      ],
      "metadata": {
        "colab": {
          "base_uri": "https://localhost:8080/"
        },
        "id": "B8xYY58COSbq",
        "outputId": "f1433f03-7718-4a0a-d7a9-0ad2bda39f60"
      },
      "execution_count": 75,
      "outputs": [
        {
          "output_type": "stream",
          "name": "stdout",
          "text": [
            "gender: [1 0]\n",
            "SeniorCitizen: [0 1]\n",
            "Partner: [1 0]\n",
            "Dependents: [0 1]\n",
            "tenure: [ 1 34  2 45  8 22 10 28 62 13 16 58 49 25 69 52 71 21 12 30 47 72 17 27\n",
            "  5 46 11 70 63 43 15 60 18 66  9  3 31 50 64 56  7 42 35 48 29 65 38 68\n",
            " 32 55 37 36 41  6  4 33 67 23 57 61 14 20 53 40 59 24 44 19 54 51 26  0\n",
            " 39]\n",
            "PhoneService: [0 1]\n",
            "MultipleLines: [0 1]\n",
            "OnlineSecurity: [0 1]\n",
            "OnlineBackup: [1 0]\n",
            "DeviceProtection: [0 1]\n",
            "TechSupport: [0 1]\n",
            "StreamingTV: [0 1]\n",
            "StreamingMovies: [0 1]\n",
            "PaperlessBilling: [1 0]\n",
            "MonthlyCharges: [29.85 56.95 53.85 ... 63.1  44.2  78.7 ]\n",
            "TotalCharges: ['29.85' '1889.5' '108.15' ... '346.45' '306.6' '6844.5']\n",
            "Churn: [0 1]\n"
          ]
        }
      ]
    },
    {
      "cell_type": "code",
      "source": [
        "df1 = df[df['TotalCharges']!=' ']\n",
        "df1['TotalCharges'].unique()"
      ],
      "metadata": {
        "colab": {
          "base_uri": "https://localhost:8080/"
        },
        "id": "PMosNN1xPcAU",
        "outputId": "a87eabd7-8ea3-4509-ad08-2e5cc885414f"
      },
      "execution_count": 80,
      "outputs": [
        {
          "output_type": "execute_result",
          "data": {
            "text/plain": [
              "array(['29.85', '1889.5', '108.15', ..., '346.45', '306.6', '6844.5'],\n",
              "      dtype=object)"
            ]
          },
          "metadata": {},
          "execution_count": 80
        }
      ]
    },
    {
      "cell_type": "code",
      "source": [
        "help_class = ['tenure','MonthlyCharges','TotalCharges']\n",
        "from sklearn import preprocessing\n",
        "scaler = preprocessing.MinMaxScaler()\n",
        "df1[help_class] = scaler.fit_transform(df1[help_class])"
      ],
      "metadata": {
        "colab": {
          "base_uri": "https://localhost:8080/"
        },
        "id": "8Gqmpl-mOb5h",
        "outputId": "9fdbb7b5-1fd5-471e-a3ad-789a089ce0f7"
      },
      "execution_count": 81,
      "outputs": [
        {
          "output_type": "stream",
          "name": "stderr",
          "text": [
            "<ipython-input-81-4fff87f82ef4>:4: SettingWithCopyWarning: \n",
            "A value is trying to be set on a copy of a slice from a DataFrame.\n",
            "Try using .loc[row_indexer,col_indexer] = value instead\n",
            "\n",
            "See the caveats in the documentation: https://pandas.pydata.org/pandas-docs/stable/user_guide/indexing.html#returning-a-view-versus-a-copy\n",
            "  df1[help_class] = scaler.fit_transform(df1[help_class])\n"
          ]
        }
      ]
    },
    {
      "cell_type": "code",
      "source": [
        "df1.info()"
      ],
      "metadata": {
        "colab": {
          "base_uri": "https://localhost:8080/"
        },
        "id": "UcRp304sPyt3",
        "outputId": "962c8c52-ca63-414f-fafd-742abf4c449a"
      },
      "execution_count": 83,
      "outputs": [
        {
          "output_type": "stream",
          "name": "stdout",
          "text": [
            "<class 'pandas.core.frame.DataFrame'>\n",
            "Int64Index: 7032 entries, 0 to 7042\n",
            "Data columns (total 17 columns):\n",
            " #   Column            Non-Null Count  Dtype  \n",
            "---  ------            --------------  -----  \n",
            " 0   gender            7032 non-null   int64  \n",
            " 1   SeniorCitizen     7032 non-null   int64  \n",
            " 2   Partner           7032 non-null   int64  \n",
            " 3   Dependents        7032 non-null   int64  \n",
            " 4   tenure            7032 non-null   float64\n",
            " 5   PhoneService      7032 non-null   int64  \n",
            " 6   MultipleLines     7032 non-null   int64  \n",
            " 7   OnlineSecurity    7032 non-null   int64  \n",
            " 8   OnlineBackup      7032 non-null   int64  \n",
            " 9   DeviceProtection  7032 non-null   int64  \n",
            " 10  TechSupport       7032 non-null   int64  \n",
            " 11  StreamingTV       7032 non-null   int64  \n",
            " 12  StreamingMovies   7032 non-null   int64  \n",
            " 13  PaperlessBilling  7032 non-null   int64  \n",
            " 14  MonthlyCharges    7032 non-null   float64\n",
            " 15  TotalCharges      7032 non-null   float64\n",
            " 16  Churn             7032 non-null   int64  \n",
            "dtypes: float64(3), int64(14)\n",
            "memory usage: 988.9 KB\n"
          ]
        }
      ]
    },
    {
      "cell_type": "code",
      "source": [
        "df1.head(5)"
      ],
      "metadata": {
        "colab": {
          "base_uri": "https://localhost:8080/",
          "height": 226
        },
        "id": "5Xd380JxP5Ll",
        "outputId": "794eea09-6c32-4d10-d1d9-227afe74852f"
      },
      "execution_count": 84,
      "outputs": [
        {
          "output_type": "execute_result",
          "data": {
            "text/plain": [
              "   gender  SeniorCitizen  Partner  Dependents    tenure  PhoneService  \\\n",
              "0       1              0        1           0  0.000000             0   \n",
              "1       0              0        0           0  0.464789             1   \n",
              "2       0              0        0           0  0.014085             1   \n",
              "3       0              0        0           0  0.619718             0   \n",
              "4       1              0        0           0  0.014085             1   \n",
              "\n",
              "   MultipleLines  OnlineSecurity  OnlineBackup  DeviceProtection  TechSupport  \\\n",
              "0              0               0             1                 0            0   \n",
              "1              0               1             0                 1            0   \n",
              "2              0               1             1                 0            0   \n",
              "3              0               1             0                 1            1   \n",
              "4              0               0             0                 0            0   \n",
              "\n",
              "   StreamingTV  StreamingMovies  PaperlessBilling  MonthlyCharges  \\\n",
              "0            0                0                 1        0.115423   \n",
              "1            0                0                 0        0.385075   \n",
              "2            0                0                 1        0.354229   \n",
              "3            0                0                 0        0.239303   \n",
              "4            0                0                 1        0.521891   \n",
              "\n",
              "   TotalCharges  Churn  \n",
              "0      0.001275      0  \n",
              "1      0.215867      0  \n",
              "2      0.010310      1  \n",
              "3      0.210241      0  \n",
              "4      0.015330      1  "
            ],
            "text/html": [
              "\n",
              "  <div id=\"df-0b3481a0-483c-4b09-b63d-c61d430ab646\" class=\"colab-df-container\">\n",
              "    <div>\n",
              "<style scoped>\n",
              "    .dataframe tbody tr th:only-of-type {\n",
              "        vertical-align: middle;\n",
              "    }\n",
              "\n",
              "    .dataframe tbody tr th {\n",
              "        vertical-align: top;\n",
              "    }\n",
              "\n",
              "    .dataframe thead th {\n",
              "        text-align: right;\n",
              "    }\n",
              "</style>\n",
              "<table border=\"1\" class=\"dataframe\">\n",
              "  <thead>\n",
              "    <tr style=\"text-align: right;\">\n",
              "      <th></th>\n",
              "      <th>gender</th>\n",
              "      <th>SeniorCitizen</th>\n",
              "      <th>Partner</th>\n",
              "      <th>Dependents</th>\n",
              "      <th>tenure</th>\n",
              "      <th>PhoneService</th>\n",
              "      <th>MultipleLines</th>\n",
              "      <th>OnlineSecurity</th>\n",
              "      <th>OnlineBackup</th>\n",
              "      <th>DeviceProtection</th>\n",
              "      <th>TechSupport</th>\n",
              "      <th>StreamingTV</th>\n",
              "      <th>StreamingMovies</th>\n",
              "      <th>PaperlessBilling</th>\n",
              "      <th>MonthlyCharges</th>\n",
              "      <th>TotalCharges</th>\n",
              "      <th>Churn</th>\n",
              "    </tr>\n",
              "  </thead>\n",
              "  <tbody>\n",
              "    <tr>\n",
              "      <th>0</th>\n",
              "      <td>1</td>\n",
              "      <td>0</td>\n",
              "      <td>1</td>\n",
              "      <td>0</td>\n",
              "      <td>0.000000</td>\n",
              "      <td>0</td>\n",
              "      <td>0</td>\n",
              "      <td>0</td>\n",
              "      <td>1</td>\n",
              "      <td>0</td>\n",
              "      <td>0</td>\n",
              "      <td>0</td>\n",
              "      <td>0</td>\n",
              "      <td>1</td>\n",
              "      <td>0.115423</td>\n",
              "      <td>0.001275</td>\n",
              "      <td>0</td>\n",
              "    </tr>\n",
              "    <tr>\n",
              "      <th>1</th>\n",
              "      <td>0</td>\n",
              "      <td>0</td>\n",
              "      <td>0</td>\n",
              "      <td>0</td>\n",
              "      <td>0.464789</td>\n",
              "      <td>1</td>\n",
              "      <td>0</td>\n",
              "      <td>1</td>\n",
              "      <td>0</td>\n",
              "      <td>1</td>\n",
              "      <td>0</td>\n",
              "      <td>0</td>\n",
              "      <td>0</td>\n",
              "      <td>0</td>\n",
              "      <td>0.385075</td>\n",
              "      <td>0.215867</td>\n",
              "      <td>0</td>\n",
              "    </tr>\n",
              "    <tr>\n",
              "      <th>2</th>\n",
              "      <td>0</td>\n",
              "      <td>0</td>\n",
              "      <td>0</td>\n",
              "      <td>0</td>\n",
              "      <td>0.014085</td>\n",
              "      <td>1</td>\n",
              "      <td>0</td>\n",
              "      <td>1</td>\n",
              "      <td>1</td>\n",
              "      <td>0</td>\n",
              "      <td>0</td>\n",
              "      <td>0</td>\n",
              "      <td>0</td>\n",
              "      <td>1</td>\n",
              "      <td>0.354229</td>\n",
              "      <td>0.010310</td>\n",
              "      <td>1</td>\n",
              "    </tr>\n",
              "    <tr>\n",
              "      <th>3</th>\n",
              "      <td>0</td>\n",
              "      <td>0</td>\n",
              "      <td>0</td>\n",
              "      <td>0</td>\n",
              "      <td>0.619718</td>\n",
              "      <td>0</td>\n",
              "      <td>0</td>\n",
              "      <td>1</td>\n",
              "      <td>0</td>\n",
              "      <td>1</td>\n",
              "      <td>1</td>\n",
              "      <td>0</td>\n",
              "      <td>0</td>\n",
              "      <td>0</td>\n",
              "      <td>0.239303</td>\n",
              "      <td>0.210241</td>\n",
              "      <td>0</td>\n",
              "    </tr>\n",
              "    <tr>\n",
              "      <th>4</th>\n",
              "      <td>1</td>\n",
              "      <td>0</td>\n",
              "      <td>0</td>\n",
              "      <td>0</td>\n",
              "      <td>0.014085</td>\n",
              "      <td>1</td>\n",
              "      <td>0</td>\n",
              "      <td>0</td>\n",
              "      <td>0</td>\n",
              "      <td>0</td>\n",
              "      <td>0</td>\n",
              "      <td>0</td>\n",
              "      <td>0</td>\n",
              "      <td>1</td>\n",
              "      <td>0.521891</td>\n",
              "      <td>0.015330</td>\n",
              "      <td>1</td>\n",
              "    </tr>\n",
              "  </tbody>\n",
              "</table>\n",
              "</div>\n",
              "    <div class=\"colab-df-buttons\">\n",
              "\n",
              "  <div class=\"colab-df-container\">\n",
              "    <button class=\"colab-df-convert\" onclick=\"convertToInteractive('df-0b3481a0-483c-4b09-b63d-c61d430ab646')\"\n",
              "            title=\"Convert this dataframe to an interactive table.\"\n",
              "            style=\"display:none;\">\n",
              "\n",
              "  <svg xmlns=\"http://www.w3.org/2000/svg\" height=\"24px\" viewBox=\"0 -960 960 960\">\n",
              "    <path d=\"M120-120v-720h720v720H120Zm60-500h600v-160H180v160Zm220 220h160v-160H400v160Zm0 220h160v-160H400v160ZM180-400h160v-160H180v160Zm440 0h160v-160H620v160ZM180-180h160v-160H180v160Zm440 0h160v-160H620v160Z\"/>\n",
              "  </svg>\n",
              "    </button>\n",
              "\n",
              "  <style>\n",
              "    .colab-df-container {\n",
              "      display:flex;\n",
              "      gap: 12px;\n",
              "    }\n",
              "\n",
              "    .colab-df-convert {\n",
              "      background-color: #E8F0FE;\n",
              "      border: none;\n",
              "      border-radius: 50%;\n",
              "      cursor: pointer;\n",
              "      display: none;\n",
              "      fill: #1967D2;\n",
              "      height: 32px;\n",
              "      padding: 0 0 0 0;\n",
              "      width: 32px;\n",
              "    }\n",
              "\n",
              "    .colab-df-convert:hover {\n",
              "      background-color: #E2EBFA;\n",
              "      box-shadow: 0px 1px 2px rgba(60, 64, 67, 0.3), 0px 1px 3px 1px rgba(60, 64, 67, 0.15);\n",
              "      fill: #174EA6;\n",
              "    }\n",
              "\n",
              "    .colab-df-buttons div {\n",
              "      margin-bottom: 4px;\n",
              "    }\n",
              "\n",
              "    [theme=dark] .colab-df-convert {\n",
              "      background-color: #3B4455;\n",
              "      fill: #D2E3FC;\n",
              "    }\n",
              "\n",
              "    [theme=dark] .colab-df-convert:hover {\n",
              "      background-color: #434B5C;\n",
              "      box-shadow: 0px 1px 3px 1px rgba(0, 0, 0, 0.15);\n",
              "      filter: drop-shadow(0px 1px 2px rgba(0, 0, 0, 0.3));\n",
              "      fill: #FFFFFF;\n",
              "    }\n",
              "  </style>\n",
              "\n",
              "    <script>\n",
              "      const buttonEl =\n",
              "        document.querySelector('#df-0b3481a0-483c-4b09-b63d-c61d430ab646 button.colab-df-convert');\n",
              "      buttonEl.style.display =\n",
              "        google.colab.kernel.accessAllowed ? 'block' : 'none';\n",
              "\n",
              "      async function convertToInteractive(key) {\n",
              "        const element = document.querySelector('#df-0b3481a0-483c-4b09-b63d-c61d430ab646');\n",
              "        const dataTable =\n",
              "          await google.colab.kernel.invokeFunction('convertToInteractive',\n",
              "                                                    [key], {});\n",
              "        if (!dataTable) return;\n",
              "\n",
              "        const docLinkHtml = 'Like what you see? Visit the ' +\n",
              "          '<a target=\"_blank\" href=https://colab.research.google.com/notebooks/data_table.ipynb>data table notebook</a>'\n",
              "          + ' to learn more about interactive tables.';\n",
              "        element.innerHTML = '';\n",
              "        dataTable['output_type'] = 'display_data';\n",
              "        await google.colab.output.renderOutput(dataTable, element);\n",
              "        const docLink = document.createElement('div');\n",
              "        docLink.innerHTML = docLinkHtml;\n",
              "        element.appendChild(docLink);\n",
              "      }\n",
              "    </script>\n",
              "  </div>\n",
              "\n",
              "\n",
              "<div id=\"df-d9a4a058-fc61-4888-85f3-886b521b8f34\">\n",
              "  <button class=\"colab-df-quickchart\" onclick=\"quickchart('df-d9a4a058-fc61-4888-85f3-886b521b8f34')\"\n",
              "            title=\"Suggest charts\"\n",
              "            style=\"display:none;\">\n",
              "\n",
              "<svg xmlns=\"http://www.w3.org/2000/svg\" height=\"24px\"viewBox=\"0 0 24 24\"\n",
              "     width=\"24px\">\n",
              "    <g>\n",
              "        <path d=\"M19 3H5c-1.1 0-2 .9-2 2v14c0 1.1.9 2 2 2h14c1.1 0 2-.9 2-2V5c0-1.1-.9-2-2-2zM9 17H7v-7h2v7zm4 0h-2V7h2v10zm4 0h-2v-4h2v4z\"/>\n",
              "    </g>\n",
              "</svg>\n",
              "  </button>\n",
              "\n",
              "<style>\n",
              "  .colab-df-quickchart {\n",
              "      --bg-color: #E8F0FE;\n",
              "      --fill-color: #1967D2;\n",
              "      --hover-bg-color: #E2EBFA;\n",
              "      --hover-fill-color: #174EA6;\n",
              "      --disabled-fill-color: #AAA;\n",
              "      --disabled-bg-color: #DDD;\n",
              "  }\n",
              "\n",
              "  [theme=dark] .colab-df-quickchart {\n",
              "      --bg-color: #3B4455;\n",
              "      --fill-color: #D2E3FC;\n",
              "      --hover-bg-color: #434B5C;\n",
              "      --hover-fill-color: #FFFFFF;\n",
              "      --disabled-bg-color: #3B4455;\n",
              "      --disabled-fill-color: #666;\n",
              "  }\n",
              "\n",
              "  .colab-df-quickchart {\n",
              "    background-color: var(--bg-color);\n",
              "    border: none;\n",
              "    border-radius: 50%;\n",
              "    cursor: pointer;\n",
              "    display: none;\n",
              "    fill: var(--fill-color);\n",
              "    height: 32px;\n",
              "    padding: 0;\n",
              "    width: 32px;\n",
              "  }\n",
              "\n",
              "  .colab-df-quickchart:hover {\n",
              "    background-color: var(--hover-bg-color);\n",
              "    box-shadow: 0 1px 2px rgba(60, 64, 67, 0.3), 0 1px 3px 1px rgba(60, 64, 67, 0.15);\n",
              "    fill: var(--button-hover-fill-color);\n",
              "  }\n",
              "\n",
              "  .colab-df-quickchart-complete:disabled,\n",
              "  .colab-df-quickchart-complete:disabled:hover {\n",
              "    background-color: var(--disabled-bg-color);\n",
              "    fill: var(--disabled-fill-color);\n",
              "    box-shadow: none;\n",
              "  }\n",
              "\n",
              "  .colab-df-spinner {\n",
              "    border: 2px solid var(--fill-color);\n",
              "    border-color: transparent;\n",
              "    border-bottom-color: var(--fill-color);\n",
              "    animation:\n",
              "      spin 1s steps(1) infinite;\n",
              "  }\n",
              "\n",
              "  @keyframes spin {\n",
              "    0% {\n",
              "      border-color: transparent;\n",
              "      border-bottom-color: var(--fill-color);\n",
              "      border-left-color: var(--fill-color);\n",
              "    }\n",
              "    20% {\n",
              "      border-color: transparent;\n",
              "      border-left-color: var(--fill-color);\n",
              "      border-top-color: var(--fill-color);\n",
              "    }\n",
              "    30% {\n",
              "      border-color: transparent;\n",
              "      border-left-color: var(--fill-color);\n",
              "      border-top-color: var(--fill-color);\n",
              "      border-right-color: var(--fill-color);\n",
              "    }\n",
              "    40% {\n",
              "      border-color: transparent;\n",
              "      border-right-color: var(--fill-color);\n",
              "      border-top-color: var(--fill-color);\n",
              "    }\n",
              "    60% {\n",
              "      border-color: transparent;\n",
              "      border-right-color: var(--fill-color);\n",
              "    }\n",
              "    80% {\n",
              "      border-color: transparent;\n",
              "      border-right-color: var(--fill-color);\n",
              "      border-bottom-color: var(--fill-color);\n",
              "    }\n",
              "    90% {\n",
              "      border-color: transparent;\n",
              "      border-bottom-color: var(--fill-color);\n",
              "    }\n",
              "  }\n",
              "</style>\n",
              "\n",
              "  <script>\n",
              "    async function quickchart(key) {\n",
              "      const quickchartButtonEl =\n",
              "        document.querySelector('#' + key + ' button');\n",
              "      quickchartButtonEl.disabled = true;  // To prevent multiple clicks.\n",
              "      quickchartButtonEl.classList.add('colab-df-spinner');\n",
              "      try {\n",
              "        const charts = await google.colab.kernel.invokeFunction(\n",
              "            'suggestCharts', [key], {});\n",
              "      } catch (error) {\n",
              "        console.error('Error during call to suggestCharts:', error);\n",
              "      }\n",
              "      quickchartButtonEl.classList.remove('colab-df-spinner');\n",
              "      quickchartButtonEl.classList.add('colab-df-quickchart-complete');\n",
              "    }\n",
              "    (() => {\n",
              "      let quickchartButtonEl =\n",
              "        document.querySelector('#df-d9a4a058-fc61-4888-85f3-886b521b8f34 button');\n",
              "      quickchartButtonEl.style.display =\n",
              "        google.colab.kernel.accessAllowed ? 'block' : 'none';\n",
              "    })();\n",
              "  </script>\n",
              "</div>\n",
              "\n",
              "    </div>\n",
              "  </div>\n"
            ]
          },
          "metadata": {},
          "execution_count": 84
        }
      ]
    },
    {
      "cell_type": "code",
      "source": [
        "x = df1.drop('Churn',axis='columns')\n",
        "y = df1['Churn']"
      ],
      "metadata": {
        "id": "_q3GMMU2P-G1"
      },
      "execution_count": 86,
      "outputs": []
    },
    {
      "cell_type": "code",
      "source": [
        "import tensorflow as tf\n",
        "from tensorflow import keras\n",
        "\n",
        "from sklearn.model_selection import train_test_split\n",
        "x_train,x_test,y_train,y_test = train_test_split(x,y,test_size=0.2,random_state=42,shuffle=False)"
      ],
      "metadata": {
        "id": "m4S1ZyXdQF0m"
      },
      "execution_count": 91,
      "outputs": []
    },
    {
      "cell_type": "code",
      "source": [
        "def ann(x_test,y_test,count):\n",
        "  model = keras.Sequential([\n",
        "    keras.layers.Dense(20,input_shape=(len(x_test.columns),),activation='relu'),\n",
        "    keras.layers.Dense(10,activation='relu'),\n",
        "    keras.layers.Dense(1,activation='sigmoid')\n",
        "  ])\n",
        "  model.compile(\n",
        "    optimizer = 'adam',\n",
        "    loss = 'binary_crossentropy',\n",
        "    metrics = ['accuracy']\n",
        "  )\n",
        "  model.fit(x_train,y_train,epochs=count)\n",
        "  return model"
      ],
      "metadata": {
        "id": "OxfOMxTpRIE4"
      },
      "execution_count": 149,
      "outputs": []
    },
    {
      "cell_type": "code",
      "source": [
        "model.evaluate(x_test,y_test)"
      ],
      "metadata": {
        "colab": {
          "base_uri": "https://localhost:8080/"
        },
        "id": "fW3-1_2GR2p4",
        "outputId": "32e3f2e2-a2d3-480b-fa4b-82090a08bd44"
      },
      "execution_count": 95,
      "outputs": [
        {
          "output_type": "stream",
          "name": "stdout",
          "text": [
            "44/44 [==============================] - 0s 2ms/step - loss: 0.4482 - accuracy: 0.7918\n"
          ]
        },
        {
          "output_type": "execute_result",
          "data": {
            "text/plain": [
              "[0.44817250967025757, 0.7917554974555969]"
            ]
          },
          "metadata": {},
          "execution_count": 95
        }
      ]
    },
    {
      "cell_type": "code",
      "source": [
        "predict = model.predict(x_test)"
      ],
      "metadata": {
        "colab": {
          "base_uri": "https://localhost:8080/"
        },
        "id": "8G1icSxzR69q",
        "outputId": "88603ac7-8dde-488a-f046-87eed37b4e9f"
      },
      "execution_count": 98,
      "outputs": [
        {
          "output_type": "stream",
          "name": "stdout",
          "text": [
            "44/44 [==============================] - 0s 1ms/step\n"
          ]
        }
      ]
    },
    {
      "cell_type": "code",
      "source": [
        "predict\n",
        "y_predict = []\n",
        "for i in predict:\n",
        "  if i < 0.5:\n",
        "    y_predict.append(0)\n",
        "  else:\n",
        "    y_predict.append(1)\n",
        "len(y_predict)"
      ],
      "metadata": {
        "colab": {
          "base_uri": "https://localhost:8080/"
        },
        "id": "PDJSe3WeSGLd",
        "outputId": "323f3d4b-8ffb-427a-e136-1c8017374489"
      },
      "execution_count": 103,
      "outputs": [
        {
          "output_type": "execute_result",
          "data": {
            "text/plain": [
              "1407"
            ]
          },
          "metadata": {},
          "execution_count": 103
        }
      ]
    },
    {
      "cell_type": "code",
      "source": [
        "from sklearn.metrics import confusion_matrix,classification_report\n",
        "print(classification_report(y_test,y_predict))"
      ],
      "metadata": {
        "colab": {
          "base_uri": "https://localhost:8080/"
        },
        "id": "es5AOMvnSYeB",
        "outputId": "b82c6696-f73f-4731-ea1e-98d6c75a5aa7"
      },
      "execution_count": 104,
      "outputs": [
        {
          "output_type": "stream",
          "name": "stdout",
          "text": [
            "              precision    recall  f1-score   support\n",
            "\n",
            "           0       0.82      0.91      0.86      1026\n",
            "           1       0.66      0.47      0.55       381\n",
            "\n",
            "    accuracy                           0.79      1407\n",
            "   macro avg       0.74      0.69      0.71      1407\n",
            "weighted avg       0.78      0.79      0.78      1407\n",
            "\n"
          ]
        }
      ]
    },
    {
      "cell_type": "code",
      "source": [
        "import seaborn as sn\n",
        "cm = tf.math.confusion_matrix(labels=y_test,predictions=y_predict)\n",
        "\n",
        "plt.figure(figsize=(7,5))\n",
        "sn.heatmap(cm,annot=True,fmt='d')\n",
        "plt.xlabel(\"Predicted\")\n",
        "plt.ylabel(\"Truth\")"
      ],
      "metadata": {
        "colab": {
          "base_uri": "https://localhost:8080/",
          "height": 483
        },
        "id": "4xbKKi64SwWJ",
        "outputId": "891ab781-e2d5-42c3-ac30-7cc25142e425"
      },
      "execution_count": 106,
      "outputs": [
        {
          "output_type": "execute_result",
          "data": {
            "text/plain": [
              "Text(58.222222222222214, 0.5, 'Truth')"
            ]
          },
          "metadata": {},
          "execution_count": 106
        },
        {
          "output_type": "display_data",
          "data": {
            "text/plain": [
              "<Figure size 700x500 with 2 Axes>"
            ],
            "image/png": "[encoded data removed]"
          },
          "metadata": {}
        }
      ]
    },
    {
      "cell_type": "markdown",
      "source": [],
      "metadata": {
        "id": "CmDhGUUgU0uS"
      }
    },
    {
      "cell_type": "markdown",
      "source": [
        "**Now we will use undersampling method to avoid bias toward one class**"
      ],
      "metadata": {
        "id": "sHLQ4XCeU28k"
      }
    },
    {
      "cell_type": "code",
      "source": [
        "y.value_counts()\n",
        "# df1['Churn'].value_counts()\n",
        "df1_0 = df1[df1['Churn']==0]\n",
        "df_1 = df1[df1['Churn']==1]\n",
        "df_new = df1_0.sample(df_1.shape[0])\n",
        "df_new.shape\n",
        "df_1.shape"
      ],
      "metadata": {
        "colab": {
          "base_uri": "https://localhost:8080/"
        },
        "id": "u5GnguWnVClu",
        "outputId": "d5ffecc5-ccee-4ad5-ceb9-14bbf42976db"
      },
      "execution_count": 121,
      "outputs": [
        {
          "output_type": "execute_result",
          "data": {
            "text/plain": [
              "(1869, 17)"
            ]
          },
          "metadata": {},
          "execution_count": 121
        }
      ]
    },
    {
      "cell_type": "code",
      "source": [
        "#now we have undersamppled df_new with 1869 entry for value equal 0\n",
        "df_final = pd.concat([df_new,df_1],axis=0)\n",
        "df_final.shape"
      ],
      "metadata": {
        "colab": {
          "base_uri": "https://localhost:8080/"
        },
        "id": "eW7R4FBiX5kd",
        "outputId": "ba0415bf-49b0-4ae3-83ac-421cd9f814e6"
      },
      "execution_count": 123,
      "outputs": [
        {
          "output_type": "execute_result",
          "data": {
            "text/plain": [
              "(3738, 17)"
            ]
          },
          "metadata": {},
          "execution_count": 123
        }
      ]
    },
    {
      "cell_type": "code",
      "source": [
        "x1 = df_final.drop('Churn',axis='columns')\n",
        "y1 = df_final['Churn']\n",
        "\n",
        "x_train,x_test,y_train,y_test = train_test_split(x1,y1,test_size=0.2,random_state=42,shuffle=True)"
      ],
      "metadata": {
        "id": "j8DbBKbdYTbd"
      },
      "execution_count": 142,
      "outputs": []
    },
    {
      "cell_type": "code",
      "source": [
        "model = ann(x_train,y_train,50)"
      ],
      "metadata": {
        "colab": {
          "base_uri": "https://localhost:8080/"
        },
        "id": "G-Fqriq7Yyqa",
        "outputId": "c81c14d3-726c-4e25-8698-2cfdada334aa"
      },
      "execution_count": 143,
      "outputs": [
        {
          "output_type": "stream",
          "name": "stdout",
          "text": [
            "Epoch 1/50\n",
            "94/94 [==============================] - 1s 2ms/step - loss: 0.6589 - accuracy: 0.6140\n",
            "Epoch 2/50\n",
            "94/94 [==============================] - 0s 2ms/step - loss: 0.5669 - accuracy: 0.7191\n",
            "Epoch 3/50\n",
            "94/94 [==============================] - 0s 2ms/step - loss: 0.5381 - accuracy: 0.7341\n",
            "Epoch 4/50\n",
            "94/94 [==============================] - 0s 2ms/step - loss: 0.5237 - accuracy: 0.7418\n",
            "Epoch 5/50\n",
            "94/94 [==============================] - 0s 2ms/step - loss: 0.5186 - accuracy: 0.7472\n",
            "Epoch 6/50\n",
            "94/94 [==============================] - 0s 2ms/step - loss: 0.5128 - accuracy: 0.7522\n",
            "Epoch 7/50\n",
            "94/94 [==============================] - 0s 2ms/step - loss: 0.5086 - accuracy: 0.7559\n",
            "Epoch 8/50\n",
            "94/94 [==============================] - 0s 2ms/step - loss: 0.5067 - accuracy: 0.7525\n",
            "Epoch 9/50\n",
            "94/94 [==============================] - 0s 2ms/step - loss: 0.5039 - accuracy: 0.7542\n",
            "Epoch 10/50\n",
            "94/94 [==============================] - 0s 2ms/step - loss: 0.5014 - accuracy: 0.7569\n",
            "Epoch 11/50\n",
            "94/94 [==============================] - 0s 2ms/step - loss: 0.5002 - accuracy: 0.7605\n",
            "Epoch 12/50\n",
            "94/94 [==============================] - 0s 2ms/step - loss: 0.4984 - accuracy: 0.7548\n",
            "Epoch 13/50\n",
            "94/94 [==============================] - 0s 2ms/step - loss: 0.4976 - accuracy: 0.7579\n",
            "Epoch 14/50\n",
            "94/94 [==============================] - 0s 2ms/step - loss: 0.4946 - accuracy: 0.7612\n",
            "Epoch 15/50\n",
            "94/94 [==============================] - 0s 3ms/step - loss: 0.4953 - accuracy: 0.7612\n",
            "Epoch 16/50\n",
            "94/94 [==============================] - 0s 3ms/step - loss: 0.4942 - accuracy: 0.7585\n",
            "Epoch 17/50\n",
            "94/94 [==============================] - 0s 3ms/step - loss: 0.4941 - accuracy: 0.7602\n",
            "Epoch 18/50\n",
            "94/94 [==============================] - 0s 3ms/step - loss: 0.4932 - accuracy: 0.7565\n",
            "Epoch 19/50\n",
            "94/94 [==============================] - 0s 3ms/step - loss: 0.4908 - accuracy: 0.7609\n",
            "Epoch 20/50\n",
            "94/94 [==============================] - 0s 3ms/step - loss: 0.4918 - accuracy: 0.7609\n",
            "Epoch 21/50\n",
            "94/94 [==============================] - 0s 3ms/step - loss: 0.4899 - accuracy: 0.7622\n",
            "Epoch 22/50\n",
            "94/94 [==============================] - 0s 3ms/step - loss: 0.4887 - accuracy: 0.7642\n",
            "Epoch 23/50\n",
            "94/94 [==============================] - 0s 3ms/step - loss: 0.4890 - accuracy: 0.7605\n",
            "Epoch 24/50\n",
            "94/94 [==============================] - 0s 3ms/step - loss: 0.4867 - accuracy: 0.7639\n",
            "Epoch 25/50\n",
            "94/94 [==============================] - 0s 3ms/step - loss: 0.4864 - accuracy: 0.7592\n",
            "Epoch 26/50\n",
            "94/94 [==============================] - 0s 3ms/step - loss: 0.4890 - accuracy: 0.7572\n",
            "Epoch 27/50\n",
            "94/94 [==============================] - 0s 3ms/step - loss: 0.4879 - accuracy: 0.7565\n",
            "Epoch 28/50\n",
            "94/94 [==============================] - 0s 3ms/step - loss: 0.4888 - accuracy: 0.7632\n",
            "Epoch 29/50\n",
            "94/94 [==============================] - 0s 2ms/step - loss: 0.4870 - accuracy: 0.7612\n",
            "Epoch 30/50\n",
            "94/94 [==============================] - 0s 2ms/step - loss: 0.4852 - accuracy: 0.7692\n",
            "Epoch 31/50\n",
            "94/94 [==============================] - 0s 2ms/step - loss: 0.4860 - accuracy: 0.7662\n",
            "Epoch 32/50\n",
            "94/94 [==============================] - 0s 2ms/step - loss: 0.4839 - accuracy: 0.7652\n",
            "Epoch 33/50\n",
            "94/94 [==============================] - 0s 2ms/step - loss: 0.4845 - accuracy: 0.7662\n",
            "Epoch 34/50\n",
            "94/94 [==============================] - 0s 2ms/step - loss: 0.4833 - accuracy: 0.7686\n",
            "Epoch 35/50\n",
            "94/94 [==============================] - 0s 2ms/step - loss: 0.4821 - accuracy: 0.7649\n",
            "Epoch 36/50\n",
            "94/94 [==============================] - 0s 2ms/step - loss: 0.4814 - accuracy: 0.7629\n",
            "Epoch 37/50\n",
            "94/94 [==============================] - 0s 2ms/step - loss: 0.4830 - accuracy: 0.7672\n",
            "Epoch 38/50\n",
            "94/94 [==============================] - 0s 2ms/step - loss: 0.4807 - accuracy: 0.7642\n",
            "Epoch 39/50\n",
            "94/94 [==============================] - 0s 2ms/step - loss: 0.4817 - accuracy: 0.7712\n",
            "Epoch 40/50\n",
            "94/94 [==============================] - 0s 2ms/step - loss: 0.4801 - accuracy: 0.7689\n",
            "Epoch 41/50\n",
            "94/94 [==============================] - 0s 2ms/step - loss: 0.4794 - accuracy: 0.7706\n",
            "Epoch 42/50\n",
            "94/94 [==============================] - 0s 2ms/step - loss: 0.4821 - accuracy: 0.7692\n",
            "Epoch 43/50\n",
            "94/94 [==============================] - 0s 2ms/step - loss: 0.4790 - accuracy: 0.7722\n",
            "Epoch 44/50\n",
            "94/94 [==============================] - 0s 2ms/step - loss: 0.4813 - accuracy: 0.7702\n",
            "Epoch 45/50\n",
            "94/94 [==============================] - 0s 2ms/step - loss: 0.4776 - accuracy: 0.7692\n",
            "Epoch 46/50\n",
            "94/94 [==============================] - 0s 2ms/step - loss: 0.4786 - accuracy: 0.7676\n",
            "Epoch 47/50\n",
            "94/94 [==============================] - 0s 2ms/step - loss: 0.4779 - accuracy: 0.7706\n",
            "Epoch 48/50\n",
            "94/94 [==============================] - 0s 2ms/step - loss: 0.4772 - accuracy: 0.7706\n",
            "Epoch 49/50\n",
            "94/94 [==============================] - 0s 2ms/step - loss: 0.4764 - accuracy: 0.7712\n",
            "Epoch 50/50\n",
            "94/94 [==============================] - 0s 2ms/step - loss: 0.4761 - accuracy: 0.7736\n"
          ]
        }
      ]
    },
    {
      "cell_type": "code",
      "source": [
        "model.evaluate(x_test,y_test)"
      ],
      "metadata": {
        "colab": {
          "base_uri": "https://localhost:8080/"
        },
        "id": "chcL_SdcZvjG",
        "outputId": "d94dca6f-77bf-4401-d79c-e9ca3752f337"
      },
      "execution_count": 144,
      "outputs": [
        {
          "output_type": "stream",
          "name": "stdout",
          "text": [
            "24/24 [==============================] - 0s 3ms/step - loss: 0.5145 - accuracy: 0.7460\n"
          ]
        },
        {
          "output_type": "execute_result",
          "data": {
            "text/plain": [
              "[0.5145233273506165, 0.7459893226623535]"
            ]
          },
          "metadata": {},
          "execution_count": 144
        }
      ]
    },
    {
      "cell_type": "code",
      "source": [
        "predict = model.predict(x_test)"
      ],
      "metadata": {
        "colab": {
          "base_uri": "https://localhost:8080/"
        },
        "id": "7dvIlxPWZ6tl",
        "outputId": "9e873d41-f3c2-4594-dea0-50020b9b0f8c"
      },
      "execution_count": 145,
      "outputs": [
        {
          "output_type": "stream",
          "name": "stdout",
          "text": [
            "24/24 [==============================] - 0s 1ms/step\n"
          ]
        }
      ]
    },
    {
      "cell_type": "code",
      "source": [
        "y_predict = []\n",
        "for i in predict:\n",
        "  if i < 0.5:\n",
        "    y_predict.append(0)\n",
        "  else:\n",
        "    y_predict.append(1)\n",
        "y_predict[0]"
      ],
      "metadata": {
        "colab": {
          "base_uri": "https://localhost:8080/"
        },
        "id": "XRv_QQuvaCSK",
        "outputId": "44bc9501-063b-428d-facf-57d6b3e6bdcd"
      },
      "execution_count": 146,
      "outputs": [
        {
          "output_type": "execute_result",
          "data": {
            "text/plain": [
              "1"
            ]
          },
          "metadata": {},
          "execution_count": 146
        }
      ]
    },
    {
      "cell_type": "code",
      "source": [
        "print(classification_report(y_test,y_predict))"
      ],
      "metadata": {
        "colab": {
          "base_uri": "https://localhost:8080/"
        },
        "id": "6TKNm3hBaSmE",
        "outputId": "57946b60-2dd3-4fcd-b4a7-249fe28a4314"
      },
      "execution_count": 147,
      "outputs": [
        {
          "output_type": "stream",
          "name": "stdout",
          "text": [
            "              precision    recall  f1-score   support\n",
            "\n",
            "           0       0.77      0.72      0.74       379\n",
            "           1       0.73      0.78      0.75       369\n",
            "\n",
            "    accuracy                           0.75       748\n",
            "   macro avg       0.75      0.75      0.75       748\n",
            "weighted avg       0.75      0.75      0.75       748\n",
            "\n"
          ]
        }
      ]
    },
    {
      "cell_type": "code",
      "source": [
        "cm = tf.math.confusion_matrix(labels=y_test,predictions=y_predict)\n",
        "\n",
        "plt.figure(figsize=(7,5))\n",
        "sn.heatmap(cm,annot=True,fmt='d')\n",
        "plt.xlabel(\"Predicted\")\n",
        "plt.ylabel(\"Truth\")"
      ],
      "metadata": {
        "colab": {
          "base_uri": "https://localhost:8080/",
          "height": 483
        },
        "id": "_wVGYOeiaPsM",
        "outputId": "617d1109-008a-4a8b-ad44-07a4789ab946"
      },
      "execution_count": 148,
      "outputs": [
        {
          "output_type": "execute_result",
          "data": {
            "text/plain": [
              "Text(58.222222222222214, 0.5, 'Truth')"
            ]
          },
          "metadata": {},
          "execution_count": 148
        },
        {
          "output_type": "display_data",
          "data": {
            "text/plain": [
              "<Figure size 700x500 with 2 Axes>"
            ],
            "image/png": "[encoded data removed]"
          },
          "metadata": {}
        }
      ]
    },
    {
      "cell_type": "markdown",
      "source": [
        "**Now we call see fro confusion matrix that both class have same amount of predictions**"
      ],
      "metadata": {
        "id": "Z8tBztlsa5nM"
      }
    },
    {
      "cell_type": "markdown",
      "source": [
        "**Now we will se oversampling of the minority class by duplicating it using sample(replace=True)**"
      ],
      "metadata": {
        "id": "RBcP-K_CcciF"
      }
    },
    {
      "cell_type": "code",
      "source": [
        "y.value_counts()\n",
        "# df1['Churn'].value_counts()\n",
        "df1_0 = df1[df1['Churn']==0]\n",
        "df_1 = df1[df1['Churn']==1]\n",
        "df_new = df1_0.sample(df_1.shape[0])\n",
        "df_new.shape\n",
        "df_1.shape\n",
        "\n",
        "df_final = pd.concat([df1_0,df_1.sample(df1_0.shape[0],replace=True)],axis=0)\n",
        "df_final.shape[0]"
      ],
      "metadata": {
        "colab": {
          "base_uri": "https://localhost:8080/"
        },
        "id": "zsWvnf1WclCL",
        "outputId": "d09d5a03-159e-4e10-deea-05a027ce04e0"
      },
      "execution_count": 154,
      "outputs": [
        {
          "output_type": "execute_result",
          "data": {
            "text/plain": [
              "10326"
            ]
          },
          "metadata": {},
          "execution_count": 154
        }
      ]
    },
    {
      "cell_type": "code",
      "source": [
        "x1 = df_final.drop('Churn',axis='columns')\n",
        "y1 = df_final['Churn']\n",
        "\n",
        "x_train,x_test,y_train,y_test = train_test_split(x1,y1,test_size=0.2,random_state=42,shuffle=True,stratify=y1)"
      ],
      "metadata": {
        "id": "CitL758reD75"
      },
      "execution_count": 158,
      "outputs": []
    },
    {
      "cell_type": "code",
      "source": [
        "model = ann(x_train,y_train,50)"
      ],
      "metadata": {
        "colab": {
          "base_uri": "https://localhost:8080/"
        },
        "id": "4NWXQhxBefbz",
        "outputId": "17d9143d-68b7-4732-ffbe-e0d7bc25cc7e"
      },
      "execution_count": 159,
      "outputs": [
        {
          "output_type": "stream",
          "name": "stdout",
          "text": [
            "Epoch 1/50\n",
            "259/259 [==============================] - 2s 4ms/step - loss: 0.6104 - accuracy: 0.6695\n",
            "Epoch 2/50\n",
            "259/259 [==============================] - 1s 3ms/step - loss: 0.5224 - accuracy: 0.7456\n",
            "Epoch 3/50\n",
            "259/259 [==============================] - 1s 3ms/step - loss: 0.5086 - accuracy: 0.7521\n",
            "Epoch 4/50\n",
            "259/259 [==============================] - 1s 3ms/step - loss: 0.5013 - accuracy: 0.7542\n",
            "Epoch 5/50\n",
            "259/259 [==============================] - 1s 3ms/step - loss: 0.4976 - accuracy: 0.7562\n",
            "Epoch 6/50\n",
            "259/259 [==============================] - 1s 2ms/step - loss: 0.4947 - accuracy: 0.7582\n",
            "Epoch 7/50\n",
            "259/259 [==============================] - 1s 2ms/step - loss: 0.4929 - accuracy: 0.7611\n",
            "Epoch 8/50\n",
            "259/259 [==============================] - 0s 2ms/step - loss: 0.4909 - accuracy: 0.7615\n",
            "Epoch 9/50\n",
            "259/259 [==============================] - 1s 2ms/step - loss: 0.4881 - accuracy: 0.7648\n",
            "Epoch 10/50\n",
            "259/259 [==============================] - 0s 2ms/step - loss: 0.4883 - accuracy: 0.7607\n",
            "Epoch 11/50\n",
            "259/259 [==============================] - 1s 2ms/step - loss: 0.4863 - accuracy: 0.7662\n",
            "Epoch 12/50\n",
            "259/259 [==============================] - 0s 2ms/step - loss: 0.4853 - accuracy: 0.7688\n",
            "Epoch 13/50\n",
            "259/259 [==============================] - 1s 2ms/step - loss: 0.4849 - accuracy: 0.7649\n",
            "Epoch 14/50\n",
            "259/259 [==============================] - 1s 3ms/step - loss: 0.4847 - accuracy: 0.7669\n",
            "Epoch 15/50\n",
            "259/259 [==============================] - 1s 4ms/step - loss: 0.4827 - accuracy: 0.7699\n",
            "Epoch 16/50\n",
            "259/259 [==============================] - 2s 9ms/step - loss: 0.4816 - accuracy: 0.7708\n",
            "Epoch 17/50\n",
            "259/259 [==============================] - 1s 5ms/step - loss: 0.4819 - accuracy: 0.7685\n",
            "Epoch 18/50\n",
            "259/259 [==============================] - 2s 7ms/step - loss: 0.4802 - accuracy: 0.7690\n",
            "Epoch 19/50\n",
            "259/259 [==============================] - 2s 8ms/step - loss: 0.4806 - accuracy: 0.7695\n",
            "Epoch 20/50\n",
            "259/259 [==============================] - 2s 6ms/step - loss: 0.4794 - accuracy: 0.7701\n",
            "Epoch 21/50\n",
            "259/259 [==============================] - 1s 4ms/step - loss: 0.4790 - accuracy: 0.7738\n",
            "Epoch 22/50\n",
            "259/259 [==============================] - 1s 3ms/step - loss: 0.4785 - accuracy: 0.7700\n",
            "Epoch 23/50\n",
            "259/259 [==============================] - 1s 3ms/step - loss: 0.4772 - accuracy: 0.7734\n",
            "Epoch 24/50\n",
            "259/259 [==============================] - 1s 2ms/step - loss: 0.4765 - accuracy: 0.7713\n",
            "Epoch 25/50\n",
            "259/259 [==============================] - 1s 3ms/step - loss: 0.4763 - accuracy: 0.7726\n",
            "Epoch 26/50\n",
            "259/259 [==============================] - 1s 3ms/step - loss: 0.4753 - accuracy: 0.7729\n",
            "Epoch 27/50\n",
            "259/259 [==============================] - 1s 3ms/step - loss: 0.4750 - accuracy: 0.7763\n",
            "Epoch 28/50\n",
            "259/259 [==============================] - 1s 3ms/step - loss: 0.4741 - accuracy: 0.7742\n",
            "Epoch 29/50\n",
            "259/259 [==============================] - 1s 3ms/step - loss: 0.4745 - accuracy: 0.7766\n",
            "Epoch 30/50\n",
            "259/259 [==============================] - 1s 3ms/step - loss: 0.4728 - accuracy: 0.7745\n",
            "Epoch 31/50\n",
            "259/259 [==============================] - 1s 2ms/step - loss: 0.4725 - accuracy: 0.7766\n",
            "Epoch 32/50\n",
            "259/259 [==============================] - 1s 3ms/step - loss: 0.4720 - accuracy: 0.7752\n",
            "Epoch 33/50\n",
            "259/259 [==============================] - 1s 2ms/step - loss: 0.4714 - accuracy: 0.7770\n",
            "Epoch 34/50\n",
            "259/259 [==============================] - 1s 5ms/step - loss: 0.4709 - accuracy: 0.7787\n",
            "Epoch 35/50\n",
            "259/259 [==============================] - 1s 5ms/step - loss: 0.4694 - accuracy: 0.7793\n",
            "Epoch 36/50\n",
            "259/259 [==============================] - 1s 5ms/step - loss: 0.4690 - accuracy: 0.7768\n",
            "Epoch 37/50\n",
            "259/259 [==============================] - 1s 4ms/step - loss: 0.4681 - accuracy: 0.7771\n",
            "Epoch 38/50\n",
            "259/259 [==============================] - 1s 5ms/step - loss: 0.4693 - accuracy: 0.7770\n",
            "Epoch 39/50\n",
            "259/259 [==============================] - 1s 3ms/step - loss: 0.4687 - accuracy: 0.7749\n",
            "Epoch 40/50\n",
            "259/259 [==============================] - 1s 2ms/step - loss: 0.4673 - accuracy: 0.7797\n",
            "Epoch 41/50\n",
            "259/259 [==============================] - 0s 2ms/step - loss: 0.4663 - accuracy: 0.7806\n",
            "Epoch 42/50\n",
            "259/259 [==============================] - 0s 2ms/step - loss: 0.4663 - accuracy: 0.7815\n",
            "Epoch 43/50\n",
            "259/259 [==============================] - 1s 2ms/step - loss: 0.4660 - accuracy: 0.7771\n",
            "Epoch 44/50\n",
            "259/259 [==============================] - 1s 2ms/step - loss: 0.4652 - accuracy: 0.7789\n",
            "Epoch 45/50\n",
            "259/259 [==============================] - 0s 2ms/step - loss: 0.4651 - accuracy: 0.7805\n",
            "Epoch 46/50\n",
            "259/259 [==============================] - 0s 2ms/step - loss: 0.4639 - accuracy: 0.7791\n",
            "Epoch 47/50\n",
            "259/259 [==============================] - 0s 2ms/step - loss: 0.4640 - accuracy: 0.7817\n",
            "Epoch 48/50\n",
            "259/259 [==============================] - 0s 2ms/step - loss: 0.4638 - accuracy: 0.7793\n",
            "Epoch 49/50\n",
            "259/259 [==============================] - 1s 2ms/step - loss: 0.4634 - accuracy: 0.7789\n",
            "Epoch 50/50\n",
            "259/259 [==============================] - 1s 2ms/step - loss: 0.4635 - accuracy: 0.7808\n"
          ]
        }
      ]
    },
    {
      "cell_type": "code",
      "source": [
        "model.evaluate(x_test)"
      ],
      "metadata": {
        "colab": {
          "base_uri": "https://localhost:8080/"
        },
        "id": "FynWTbbKepHQ",
        "outputId": "09b5cadc-266d-4247-c651-f88cab5aa8b3"
      },
      "execution_count": 160,
      "outputs": [
        {
          "output_type": "stream",
          "name": "stdout",
          "text": [
            "65/65 [==============================] - 0s 2ms/step - loss: 0.0000e+00 - accuracy: 0.0000e+00\n"
          ]
        },
        {
          "output_type": "execute_result",
          "data": {
            "text/plain": [
              "[0.0, 0.0]"
            ]
          },
          "metadata": {},
          "execution_count": 160
        }
      ]
    },
    {
      "cell_type": "code",
      "source": [
        "predict = model.predict(x_test)\n",
        "y_predict = []\n",
        "for i in predict:\n",
        "  if i < 0.5:\n",
        "    y_predict.append(0)\n",
        "  else:\n",
        "    y_predict.append(1)"
      ],
      "metadata": {
        "colab": {
          "base_uri": "https://localhost:8080/"
        },
        "id": "pPtezAuXfQQA",
        "outputId": "b06fef43-8ee3-41df-99fd-a95957fcf2f8"
      },
      "execution_count": 161,
      "outputs": [
        {
          "output_type": "stream",
          "name": "stdout",
          "text": [
            "65/65 [==============================] - 1s 5ms/step\n"
          ]
        }
      ]
    },
    {
      "cell_type": "code",
      "source": [
        "print(classification_report(y_test,y_predict))"
      ],
      "metadata": {
        "colab": {
          "base_uri": "https://localhost:8080/"
        },
        "id": "gdsu8sAofmru",
        "outputId": "9852b717-bdb2-4ef2-8707-fb6c5c6f36be"
      },
      "execution_count": 162,
      "outputs": [
        {
          "output_type": "stream",
          "name": "stdout",
          "text": [
            "              precision    recall  f1-score   support\n",
            "\n",
            "           0       0.77      0.73      0.75      1033\n",
            "           1       0.75      0.78      0.76      1033\n",
            "\n",
            "    accuracy                           0.76      2066\n",
            "   macro avg       0.76      0.76      0.76      2066\n",
            "weighted avg       0.76      0.76      0.76      2066\n",
            "\n"
          ]
        }
      ]
    },
    {
      "cell_type": "code",
      "source": [
        "cm = tf.math.confusion_matrix(labels=y_test,predictions=y_predict)\n",
        "\n",
        "plt.figure(figsize=(7,5))\n",
        "sn.heatmap(cm,annot=True,fmt='d')\n",
        "plt.xlabel(\"Predicted\")\n",
        "plt.ylabel(\"Truth\")"
      ],
      "metadata": {
        "colab": {
          "base_uri": "https://localhost:8080/",
          "height": 483
        },
        "id": "3QWIa1NIf0W6",
        "outputId": "c0f22c91-bbdb-4d9b-eb0b-7b80ad4a9ba9"
      },
      "execution_count": 163,
      "outputs": [
        {
          "output_type": "execute_result",
          "data": {
            "text/plain": [
              "Text(58.222222222222214, 0.5, 'Truth')"
            ]
          },
          "metadata": {},
          "execution_count": 163
        },
        {
          "output_type": "display_data",
          "data": {
            "text/plain": [
              "<Figure size 700x500 with 2 Axes>"
            ],
            "image/png": "[encoded data removed]"
          },
          "metadata": {}
        }
      ]
    },
    {
      "cell_type": "markdown",
      "source": [
        "**SMOTE**"
      ],
      "metadata": {
        "id": "y6M86qU2gsFm"
      }
    },
    {
      "cell_type": "markdown",
      "source": [
        "**SMOTE - Uses Knn algo to create new data points it is not duplicate**\n"
      ],
      "metadata": {
        "id": "2AYDGMYViHb1"
      }
    },
    {
      "cell_type": "code",
      "source": [
        "x = df1.drop('Churn',axis='columns')\n",
        "y = df1['Churn']\n",
        "from imblearn.over_sampling import SMOTE\n",
        "\n",
        "smote = SMOTE(sampling_strategy='minority')\n",
        "x_sm,y_sm = smote.fit_resample(x,y)\n",
        "\n",
        "y_sm.value_counts()"
      ],
      "metadata": {
        "colab": {
          "base_uri": "https://localhost:8080/"
        },
        "id": "rDThS8sHiOsS",
        "outputId": "d66eabd0-ddd8-4060-c0f1-3cf234c9037c"
      },
      "execution_count": 166,
      "outputs": [
        {
          "output_type": "execute_result",
          "data": {
            "text/plain": [
              "0    5163\n",
              "1    5163\n",
              "Name: Churn, dtype: int64"
            ]
          },
          "metadata": {},
          "execution_count": 166
        }
      ]
    },
    {
      "cell_type": "code",
      "source": [
        "x_train,x_test,y_train,y_test = train_test_split(x_sm,y_sm,test_size=0.2,random_state=42,shuffle=True,stratify=y_sm)"
      ],
      "metadata": {
        "id": "v1MnimKQj8LF"
      },
      "execution_count": 167,
      "outputs": []
    },
    {
      "cell_type": "code",
      "source": [
        "model = ann(x_train,y_train,50)"
      ],
      "metadata": {
        "colab": {
          "base_uri": "https://localhost:8080/"
        },
        "id": "ZioEs_Z5kKZe",
        "outputId": "8126afd8-92b4-4688-e4af-1669744951a1"
      },
      "execution_count": 169,
      "outputs": [
        {
          "output_type": "stream",
          "name": "stdout",
          "text": [
            "Epoch 1/50\n",
            "259/259 [==============================] - 3s 5ms/step - loss: 0.5896 - accuracy: 0.6961\n",
            "Epoch 2/50\n",
            "259/259 [==============================] - 1s 4ms/step - loss: 0.5134 - accuracy: 0.7558\n",
            "Epoch 3/50\n",
            "259/259 [==============================] - 1s 4ms/step - loss: 0.4955 - accuracy: 0.7645\n",
            "Epoch 4/50\n",
            "259/259 [==============================] - 1s 3ms/step - loss: 0.4854 - accuracy: 0.7708\n",
            "Epoch 5/50\n",
            "259/259 [==============================] - 1s 3ms/step - loss: 0.4793 - accuracy: 0.7754\n",
            "Epoch 6/50\n",
            "259/259 [==============================] - 1s 3ms/step - loss: 0.4752 - accuracy: 0.7728\n",
            "Epoch 7/50\n",
            "259/259 [==============================] - 1s 3ms/step - loss: 0.4707 - accuracy: 0.7760\n",
            "Epoch 8/50\n",
            "259/259 [==============================] - 1s 3ms/step - loss: 0.4689 - accuracy: 0.7763\n",
            "Epoch 9/50\n",
            "259/259 [==============================] - 1s 4ms/step - loss: 0.4659 - accuracy: 0.7797\n",
            "Epoch 10/50\n",
            "259/259 [==============================] - 1s 3ms/step - loss: 0.4647 - accuracy: 0.7800\n",
            "Epoch 11/50\n",
            "259/259 [==============================] - 1s 3ms/step - loss: 0.4631 - accuracy: 0.7816\n",
            "Epoch 12/50\n",
            "259/259 [==============================] - 1s 3ms/step - loss: 0.4631 - accuracy: 0.7804\n",
            "Epoch 13/50\n",
            "259/259 [==============================] - 1s 3ms/step - loss: 0.4598 - accuracy: 0.7827\n",
            "Epoch 14/50\n",
            "259/259 [==============================] - 1s 3ms/step - loss: 0.4589 - accuracy: 0.7856\n",
            "Epoch 15/50\n",
            "259/259 [==============================] - 1s 3ms/step - loss: 0.4592 - accuracy: 0.7811\n",
            "Epoch 16/50\n",
            "259/259 [==============================] - 1s 4ms/step - loss: 0.4568 - accuracy: 0.7841\n",
            "Epoch 17/50\n",
            "259/259 [==============================] - 1s 4ms/step - loss: 0.4571 - accuracy: 0.7857\n",
            "Epoch 18/50\n",
            "259/259 [==============================] - 1s 4ms/step - loss: 0.4553 - accuracy: 0.7845\n",
            "Epoch 19/50\n",
            "259/259 [==============================] - 1s 4ms/step - loss: 0.4547 - accuracy: 0.7864\n",
            "Epoch 20/50\n",
            "259/259 [==============================] - 1s 3ms/step - loss: 0.4532 - accuracy: 0.7858\n",
            "Epoch 21/50\n",
            "259/259 [==============================] - 1s 3ms/step - loss: 0.4546 - accuracy: 0.7875\n",
            "Epoch 22/50\n",
            "259/259 [==============================] - 1s 3ms/step - loss: 0.4535 - accuracy: 0.7835\n",
            "Epoch 23/50\n",
            "259/259 [==============================] - 1s 3ms/step - loss: 0.4519 - accuracy: 0.7852\n",
            "Epoch 24/50\n",
            "259/259 [==============================] - 1s 3ms/step - loss: 0.4508 - accuracy: 0.7844\n",
            "Epoch 25/50\n",
            "259/259 [==============================] - 1s 3ms/step - loss: 0.4500 - accuracy: 0.7869\n",
            "Epoch 26/50\n",
            "259/259 [==============================] - 1s 2ms/step - loss: 0.4513 - accuracy: 0.7869\n",
            "Epoch 27/50\n",
            "259/259 [==============================] - 1s 3ms/step - loss: 0.4492 - accuracy: 0.7867\n",
            "Epoch 28/50\n",
            "259/259 [==============================] - 1s 4ms/step - loss: 0.4493 - accuracy: 0.7868\n",
            "Epoch 29/50\n",
            "259/259 [==============================] - 1s 4ms/step - loss: 0.4481 - accuracy: 0.7872\n",
            "Epoch 30/50\n",
            "259/259 [==============================] - 1s 4ms/step - loss: 0.4481 - accuracy: 0.7874\n",
            "Epoch 31/50\n",
            "259/259 [==============================] - 3s 11ms/step - loss: 0.4483 - accuracy: 0.7892\n",
            "Epoch 32/50\n",
            "259/259 [==============================] - 1s 6ms/step - loss: 0.4478 - accuracy: 0.7868\n",
            "Epoch 33/50\n",
            "259/259 [==============================] - 2s 7ms/step - loss: 0.4474 - accuracy: 0.7898\n",
            "Epoch 34/50\n",
            "259/259 [==============================] - 1s 6ms/step - loss: 0.4480 - accuracy: 0.7881\n",
            "Epoch 35/50\n",
            "259/259 [==============================] - 1s 3ms/step - loss: 0.4458 - accuracy: 0.7893\n",
            "Epoch 36/50\n",
            "259/259 [==============================] - 1s 2ms/step - loss: 0.4456 - accuracy: 0.7892\n",
            "Epoch 37/50\n",
            "259/259 [==============================] - 1s 3ms/step - loss: 0.4460 - accuracy: 0.7896\n",
            "Epoch 38/50\n",
            "259/259 [==============================] - 1s 3ms/step - loss: 0.4450 - accuracy: 0.7912\n",
            "Epoch 39/50\n",
            "259/259 [==============================] - 1s 3ms/step - loss: 0.4445 - accuracy: 0.7919\n",
            "Epoch 40/50\n",
            "259/259 [==============================] - 1s 3ms/step - loss: 0.4442 - accuracy: 0.7921\n",
            "Epoch 41/50\n",
            "259/259 [==============================] - 1s 3ms/step - loss: 0.4439 - accuracy: 0.7912\n",
            "Epoch 42/50\n",
            "259/259 [==============================] - 1s 3ms/step - loss: 0.4443 - accuracy: 0.7897\n",
            "Epoch 43/50\n",
            "259/259 [==============================] - 1s 3ms/step - loss: 0.4428 - accuracy: 0.7919\n",
            "Epoch 44/50\n",
            "259/259 [==============================] - 1s 4ms/step - loss: 0.4436 - accuracy: 0.7874\n",
            "Epoch 45/50\n",
            "259/259 [==============================] - 1s 3ms/step - loss: 0.4428 - accuracy: 0.7893\n",
            "Epoch 46/50\n",
            "259/259 [==============================] - 1s 5ms/step - loss: 0.4421 - accuracy: 0.7864\n",
            "Epoch 47/50\n",
            "259/259 [==============================] - 1s 4ms/step - loss: 0.4420 - accuracy: 0.7912\n",
            "Epoch 48/50\n",
            "259/259 [==============================] - 1s 5ms/step - loss: 0.4415 - accuracy: 0.7912\n",
            "Epoch 49/50\n",
            "259/259 [==============================] - 1s 2ms/step - loss: 0.4415 - accuracy: 0.7953\n",
            "Epoch 50/50\n",
            "259/259 [==============================] - 1s 3ms/step - loss: 0.4416 - accuracy: 0.7869\n"
          ]
        }
      ]
    },
    {
      "cell_type": "code",
      "source": [
        "model.evaluate(x_test,y_test)\n",
        "predict = model.predict(x_test)"
      ],
      "metadata": {
        "colab": {
          "base_uri": "https://localhost:8080/"
        },
        "id": "EXFUgn5vkU6W",
        "outputId": "092adc5c-744d-4ae8-e194-a35596c85b14"
      },
      "execution_count": 170,
      "outputs": [
        {
          "output_type": "stream",
          "name": "stdout",
          "text": [
            "65/65 [==============================] - 0s 2ms/step - loss: 0.4699 - accuracy: 0.7832\n",
            "65/65 [==============================] - 0s 2ms/step\n"
          ]
        }
      ]
    },
    {
      "cell_type": "code",
      "source": [
        "y_predict = []\n",
        "for i in predict:\n",
        "  if i < 0.5:\n",
        "    y_predict.append(0)\n",
        "  else:\n",
        "    y_predict.append(1)\n"
      ],
      "metadata": {
        "id": "2t4wL5M8kdv0"
      },
      "execution_count": 171,
      "outputs": []
    },
    {
      "cell_type": "code",
      "source": [
        "print(classification_report(y_test,y_predict))"
      ],
      "metadata": {
        "colab": {
          "base_uri": "https://localhost:8080/"
        },
        "id": "JxSmJpPXknCD",
        "outputId": "3e652989-4306-432e-bad6-36ae9173320f"
      },
      "execution_count": 172,
      "outputs": [
        {
          "output_type": "stream",
          "name": "stdout",
          "text": [
            "              precision    recall  f1-score   support\n",
            "\n",
            "           0       0.81      0.74      0.77      1033\n",
            "           1       0.76      0.82      0.79      1033\n",
            "\n",
            "    accuracy                           0.78      2066\n",
            "   macro avg       0.78      0.78      0.78      2066\n",
            "weighted avg       0.78      0.78      0.78      2066\n",
            "\n"
          ]
        }
      ]
    },
    {
      "cell_type": "code",
      "source": [
        "cm = tf.math.confusion_matrix(labels=y_test,predictions=y_predict)\n",
        "\n",
        "plt.figure(figsize=(7,5))\n",
        "sn.heatmap(cm,annot=True,fmt='d')\n",
        "plt.xlabel(\"Predicted\")\n",
        "plt.ylabel(\"Truth\")"
      ],
      "metadata": {
        "colab": {
          "base_uri": "https://localhost:8080/",
          "height": 483
        },
        "id": "BveZYK97krIS",
        "outputId": "d90d1eea-7412-46e5-d27c-418cb979547a"
      },
      "execution_count": 173,
      "outputs": [
        {
          "output_type": "execute_result",
          "data": {
            "text/plain": [
              "Text(58.222222222222214, 0.5, 'Truth')"
            ]
          },
          "metadata": {},
          "execution_count": 173
        },
        {
          "output_type": "display_data",
          "data": {
            "text/plain": [
              "<Figure size 700x500 with 2 Axes>"
            ],
            "image/png": "[encoded data removed]"
          },
          "metadata": {}
        }
      ]
    }
  ]
}